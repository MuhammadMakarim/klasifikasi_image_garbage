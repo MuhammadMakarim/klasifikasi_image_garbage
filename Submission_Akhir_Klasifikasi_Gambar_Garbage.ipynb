{
  "nbformat": 4,
  "nbformat_minor": 0,
  "metadata": {
    "colab": {
      "provenance": []
    },
    "kernelspec": {
      "name": "python3",
      "display_name": "Python 3"
    },
    "language_info": {
      "name": "python"
    }
  },
  "cells": [
    {
      "cell_type": "markdown",
      "metadata": {
        "id": "H9wADwK78DCz"
      },
      "source": [
        "# **Klasifikasi Gambar Proyek Fundamental Deep Learning**\n",
        "- **Nama:** Muhammad Makarim\n",
        "- **Email:** mmakarim9@student.ub.ac.id\n",
        "- **ID Dicoding:** MC006D5Y1427"
      ]
    },
    {
      "cell_type": "markdown",
      "metadata": {
        "id": "H-z4QGlO8DC1"
      },
      "source": [
        "## Import Semua Packages/Library yang Digunakan"
      ]
    },
    {
      "cell_type": "code",
      "source": [
        "!pip install tensorflow opencv-python"
      ],
      "metadata": {
        "colab": {
          "base_uri": "https://localhost:8080/"
        },
        "id": "MVApxwRfyzG8",
        "outputId": "cb3d602a-bfe5-40c3-bf22-f0d261384e27"
      },
      "execution_count": 1,
      "outputs": [
        {
          "output_type": "stream",
          "name": "stdout",
          "text": [
            "Requirement already satisfied: tensorflow in /usr/local/lib/python3.11/dist-packages (2.18.0)\n",
            "Requirement already satisfied: opencv-python in /usr/local/lib/python3.11/dist-packages (4.11.0.86)\n",
            "Requirement already satisfied: absl-py>=1.0.0 in /usr/local/lib/python3.11/dist-packages (from tensorflow) (1.4.0)\n",
            "Requirement already satisfied: astunparse>=1.6.0 in /usr/local/lib/python3.11/dist-packages (from tensorflow) (1.6.3)\n",
            "Requirement already satisfied: flatbuffers>=24.3.25 in /usr/local/lib/python3.11/dist-packages (from tensorflow) (25.2.10)\n",
            "Requirement already satisfied: gast!=0.5.0,!=0.5.1,!=0.5.2,>=0.2.1 in /usr/local/lib/python3.11/dist-packages (from tensorflow) (0.6.0)\n",
            "Requirement already satisfied: google-pasta>=0.1.1 in /usr/local/lib/python3.11/dist-packages (from tensorflow) (0.2.0)\n",
            "Requirement already satisfied: libclang>=13.0.0 in /usr/local/lib/python3.11/dist-packages (from tensorflow) (18.1.1)\n",
            "Requirement already satisfied: opt-einsum>=2.3.2 in /usr/local/lib/python3.11/dist-packages (from tensorflow) (3.4.0)\n",
            "Requirement already satisfied: packaging in /usr/local/lib/python3.11/dist-packages (from tensorflow) (24.2)\n",
            "Requirement already satisfied: protobuf!=4.21.0,!=4.21.1,!=4.21.2,!=4.21.3,!=4.21.4,!=4.21.5,<6.0.0dev,>=3.20.3 in /usr/local/lib/python3.11/dist-packages (from tensorflow) (5.29.5)\n",
            "Requirement already satisfied: requests<3,>=2.21.0 in /usr/local/lib/python3.11/dist-packages (from tensorflow) (2.32.3)\n",
            "Requirement already satisfied: setuptools in /usr/local/lib/python3.11/dist-packages (from tensorflow) (75.2.0)\n",
            "Requirement already satisfied: six>=1.12.0 in /usr/local/lib/python3.11/dist-packages (from tensorflow) (1.17.0)\n",
            "Requirement already satisfied: termcolor>=1.1.0 in /usr/local/lib/python3.11/dist-packages (from tensorflow) (3.1.0)\n",
            "Requirement already satisfied: typing-extensions>=3.6.6 in /usr/local/lib/python3.11/dist-packages (from tensorflow) (4.14.0)\n",
            "Requirement already satisfied: wrapt>=1.11.0 in /usr/local/lib/python3.11/dist-packages (from tensorflow) (1.17.2)\n",
            "Requirement already satisfied: grpcio<2.0,>=1.24.3 in /usr/local/lib/python3.11/dist-packages (from tensorflow) (1.72.1)\n",
            "Requirement already satisfied: tensorboard<2.19,>=2.18 in /usr/local/lib/python3.11/dist-packages (from tensorflow) (2.18.0)\n",
            "Requirement already satisfied: keras>=3.5.0 in /usr/local/lib/python3.11/dist-packages (from tensorflow) (3.8.0)\n",
            "Requirement already satisfied: numpy<2.1.0,>=1.26.0 in /usr/local/lib/python3.11/dist-packages (from tensorflow) (2.0.2)\n",
            "Requirement already satisfied: h5py>=3.11.0 in /usr/local/lib/python3.11/dist-packages (from tensorflow) (3.13.0)\n",
            "Requirement already satisfied: ml-dtypes<0.5.0,>=0.4.0 in /usr/local/lib/python3.11/dist-packages (from tensorflow) (0.4.1)\n",
            "Requirement already satisfied: tensorflow-io-gcs-filesystem>=0.23.1 in /usr/local/lib/python3.11/dist-packages (from tensorflow) (0.37.1)\n",
            "Requirement already satisfied: wheel<1.0,>=0.23.0 in /usr/local/lib/python3.11/dist-packages (from astunparse>=1.6.0->tensorflow) (0.45.1)\n",
            "Requirement already satisfied: rich in /usr/local/lib/python3.11/dist-packages (from keras>=3.5.0->tensorflow) (13.9.4)\n",
            "Requirement already satisfied: namex in /usr/local/lib/python3.11/dist-packages (from keras>=3.5.0->tensorflow) (0.1.0)\n",
            "Requirement already satisfied: optree in /usr/local/lib/python3.11/dist-packages (from keras>=3.5.0->tensorflow) (0.16.0)\n",
            "Requirement already satisfied: charset-normalizer<4,>=2 in /usr/local/lib/python3.11/dist-packages (from requests<3,>=2.21.0->tensorflow) (3.4.2)\n",
            "Requirement already satisfied: idna<4,>=2.5 in /usr/local/lib/python3.11/dist-packages (from requests<3,>=2.21.0->tensorflow) (3.10)\n",
            "Requirement already satisfied: urllib3<3,>=1.21.1 in /usr/local/lib/python3.11/dist-packages (from requests<3,>=2.21.0->tensorflow) (2.4.0)\n",
            "Requirement already satisfied: certifi>=2017.4.17 in /usr/local/lib/python3.11/dist-packages (from requests<3,>=2.21.0->tensorflow) (2025.4.26)\n",
            "Requirement already satisfied: markdown>=2.6.8 in /usr/local/lib/python3.11/dist-packages (from tensorboard<2.19,>=2.18->tensorflow) (3.8)\n",
            "Requirement already satisfied: tensorboard-data-server<0.8.0,>=0.7.0 in /usr/local/lib/python3.11/dist-packages (from tensorboard<2.19,>=2.18->tensorflow) (0.7.2)\n",
            "Requirement already satisfied: werkzeug>=1.0.1 in /usr/local/lib/python3.11/dist-packages (from tensorboard<2.19,>=2.18->tensorflow) (3.1.3)\n",
            "Requirement already satisfied: MarkupSafe>=2.1.1 in /usr/local/lib/python3.11/dist-packages (from werkzeug>=1.0.1->tensorboard<2.19,>=2.18->tensorflow) (3.0.2)\n",
            "Requirement already satisfied: markdown-it-py>=2.2.0 in /usr/local/lib/python3.11/dist-packages (from rich->keras>=3.5.0->tensorflow) (3.0.0)\n",
            "Requirement already satisfied: pygments<3.0.0,>=2.13.0 in /usr/local/lib/python3.11/dist-packages (from rich->keras>=3.5.0->tensorflow) (2.19.1)\n",
            "Requirement already satisfied: mdurl~=0.1 in /usr/local/lib/python3.11/dist-packages (from markdown-it-py>=2.2.0->rich->keras>=3.5.0->tensorflow) (0.1.2)\n"
          ]
        }
      ]
    },
    {
      "cell_type": "code",
      "source": [
        "!pip install tensorflowjs --quiet"
      ],
      "metadata": {
        "colab": {
          "base_uri": "https://localhost:8080/"
        },
        "id": "ndXP2iUFfL_r",
        "outputId": "289f2eab-9bce-488a-e347-85a7d08b7db5"
      },
      "execution_count": 28,
      "outputs": [
        {
          "output_type": "stream",
          "name": "stdout",
          "text": [
            "\u001b[?25l   \u001b[90m━━━━━━━━━━━━━━━━━━━━━━━━━━━━━━━━━━━━━━━━\u001b[0m \u001b[32m0.0/89.1 kB\u001b[0m \u001b[31m?\u001b[0m eta \u001b[36m-:--:--\u001b[0m\r\u001b[2K   \u001b[91m━━━━━━━━━━━━━━━━━━━━━━━━━━━━━━━━━━━━\u001b[0m\u001b[91m╸\u001b[0m\u001b[90m━━━\u001b[0m \u001b[32m81.9/89.1 kB\u001b[0m \u001b[31m3.5 MB/s\u001b[0m eta \u001b[36m0:00:01\u001b[0m\r\u001b[2K   \u001b[90m━━━━━━━━━━━━━━━━━━━━━━━━━━━━━━━━━━━━━━━━\u001b[0m \u001b[32m89.1/89.1 kB\u001b[0m \u001b[31m2.2 MB/s\u001b[0m eta \u001b[36m0:00:00\u001b[0m\n",
            "\u001b[?25h\u001b[?25l   \u001b[90m━━━━━━━━━━━━━━━━━━━━━━━━━━━━━━━━━━━━━━━━\u001b[0m \u001b[32m0.0/53.0 kB\u001b[0m \u001b[31m?\u001b[0m eta \u001b[36m-:--:--\u001b[0m\r\u001b[2K   \u001b[90m━━━━━━━━━━━━━━━━━━━━━━━━━━━━━━━━━━━━━━━━\u001b[0m \u001b[32m53.0/53.0 kB\u001b[0m \u001b[31m3.3 MB/s\u001b[0m eta \u001b[36m0:00:00\u001b[0m\n",
            "\u001b[?25h\u001b[31mERROR: pip's dependency resolver does not currently take into account all the packages that are installed. This behaviour is the source of the following dependency conflicts.\n",
            "google-cloud-bigquery 3.34.0 requires packaging>=24.2.0, but you have packaging 23.2 which is incompatible.\n",
            "db-dtypes 1.4.3 requires packaging>=24.2.0, but you have packaging 23.2 which is incompatible.\u001b[0m\u001b[31m\n",
            "\u001b[0m"
          ]
        }
      ]
    },
    {
      "cell_type": "code",
      "source": [
        "# Import library utama untuk deep learning\n",
        "import tensorflow as tf\n",
        "from tensorflow.keras.models import Sequential\n",
        "from tensorflow.keras.applications import MobileNetV2\n",
        "from tensorflow.keras import layers, models\n",
        "from tensorflow.keras.regularizers import l2\n",
        "from tensorflow.keras.layers import (\n",
        "    Conv2D,          # Lapisan konvolusi 2D\n",
        "    MaxPooling2D,    # Lapisan pooling\n",
        "    Flatten,         # Meratakan input\n",
        "    Dense,           # Lapisan fully connected\n",
        "    Dropout,          # Mencegah overfitting\n",
        "    BatchNormalization,\n",
        "    InputLayer,\n",
        "    GlobalAveragePooling2D\n",
        ")\n",
        "\n",
        "# Callback untuk optimasi training\n",
        "from tensorflow.keras.callbacks import (\n",
        "    EarlyStopping,\n",
        "    ModelCheckpoint,\n",
        "    ReduceLROnPlateau\n",
        ")\n",
        "\n",
        "# Preprocessing dan augmentasi\n",
        "from tensorflow.keras.preprocessing import image\n",
        "from tensorflow.keras.preprocessing.image import ImageDataGenerator, load_img, img_to_array\n",
        "from tensorflow.keras.applications.mobilenet_v2 import preprocess_input\n",
        "\n",
        "# Library pendukung\n",
        "import numpy as np\n",
        "import matplotlib.pyplot as plt\n",
        "import pandas as pd\n",
        "import os\n",
        "import cv2\n",
        "import gdown\n",
        "import zipfile\n",
        "import shutil\n",
        "from IPython.display import Image, display\n",
        "\n",
        "from sklearn.model_selection import train_test_split\n",
        "from tensorflow.keras.models import load_model"
      ],
      "metadata": {
        "id": "-JwG6SaP4696"
      },
      "execution_count": 46,
      "outputs": []
    },
    {
      "cell_type": "code",
      "source": [
        "# Konfigurasi GPU (opsional)\n",
        "gpus = tf.config.experimental.list_physical_devices('GPU')\n",
        "if gpus:\n",
        "    try:\n",
        "        for gpu in gpus:\n",
        "            tf.config.experimental.set_memory_growth(gpu, True)\n",
        "    except RuntimeError as e:\n",
        "        print(e)\n",
        "\n",
        "# Set random seed untuk reproducibility\n",
        "tf.random.set_seed(42)\n",
        "np.random.seed(42)"
      ],
      "metadata": {
        "id": "yFhXVLhxzBRB"
      },
      "execution_count": 3,
      "outputs": []
    },
    {
      "cell_type": "markdown",
      "source": [
        "## Data Preparation"
      ],
      "metadata": {
        "id": "TK4DvqfbYrN8"
      }
    },
    {
      "cell_type": "markdown",
      "metadata": {
        "id": "HHekw29KX4XQ"
      },
      "source": [
        "### Data Loading"
      ]
    },
    {
      "cell_type": "code",
      "execution_count": 4,
      "metadata": {
        "id": "wIcv1F9fX4XQ",
        "colab": {
          "base_uri": "https://localhost:8080/",
          "height": 122
        },
        "outputId": "20bfacdb-3f2c-4233-ea21-bd4fc6bd0c02"
      },
      "outputs": [
        {
          "output_type": "stream",
          "name": "stderr",
          "text": [
            "Downloading...\n",
            "From (original): https://drive.google.com/uc?export=download&id=1GR5_Y_07vHFDXRRORPhrBz-9CYdgSTkh\n",
            "From (redirected): https://drive.google.com/uc?export=download&id=1GR5_Y_07vHFDXRRORPhrBz-9CYdgSTkh&confirm=t&uuid=3db6c8df-3d66-4b1f-bf88-388d7a33a9b0\n",
            "To: /content/garbage_dataset.zip\n",
            "100%|██████████| 251M/251M [00:03<00:00, 76.1MB/s]\n"
          ]
        },
        {
          "output_type": "execute_result",
          "data": {
            "text/plain": [
              "'garbage_dataset.zip'"
            ],
            "application/vnd.google.colaboratory.intrinsic+json": {
              "type": "string"
            }
          },
          "metadata": {},
          "execution_count": 4
        }
      ],
      "source": [
        "# Unduh dan ekstrak dataset\n",
        "file_id = '1GR5_Y_07vHFDXRRORPhrBz-9CYdgSTkh'\n",
        "url = f'https://drive.google.com/uc?export=download&id={file_id}'\n",
        "\n",
        "output = 'garbage_dataset.zip'\n",
        "\n",
        "gdown.download(url, output, quiet=False)"
      ]
    },
    {
      "cell_type": "code",
      "source": [
        "with zipfile.ZipFile(output, 'r') as zip_ref:\n",
        "    zip_ref.extractall('/content/dataset')"
      ],
      "metadata": {
        "id": "Bj78aMhZ2yKQ"
      },
      "execution_count": 5,
      "outputs": []
    },
    {
      "cell_type": "code",
      "source": [
        "# Cek isi folder setelah ekstraksi\n",
        "os.listdir('/content/dataset/garbage_classification')"
      ],
      "metadata": {
        "colab": {
          "base_uri": "https://localhost:8080/"
        },
        "id": "lBmuqREPHFDY",
        "outputId": "1e636da5-3e57-450e-8115-720c7a20fb7a"
      },
      "execution_count": 6,
      "outputs": [
        {
          "output_type": "execute_result",
          "data": {
            "text/plain": [
              "['brown-glass',\n",
              " 'trash',\n",
              " 'battery',\n",
              " 'clothes',\n",
              " 'shoes',\n",
              " 'plastic',\n",
              " 'cardboard',\n",
              " 'paper',\n",
              " 'white-glass',\n",
              " 'metal',\n",
              " 'biological',\n",
              " 'green-glass']"
            ]
          },
          "metadata": {},
          "execution_count": 6
        }
      ]
    },
    {
      "cell_type": "code",
      "source": [
        "# Path dataset\n",
        "dataset_path = '/content/dataset/garbage_classification'\n",
        "themes = dataset_path\n",
        "theme_to_label = {theme: idx for idx, theme in enumerate(themes)}"
      ],
      "metadata": {
        "id": "TrEBqddFHIvc"
      },
      "execution_count": 7,
      "outputs": []
    },
    {
      "cell_type": "code",
      "source": [
        "# Path dataset\n",
        "dataset_path = '/content/dataset/garbage_classification'\n",
        "\n",
        "# Fungsi untuk menganalisis ukuran gambar per kelas\n",
        "def analyze_image_sizes_per_class(path):\n",
        "    # Dictionary untuk menyimpan ukuran gambar per kelas\n",
        "    class_sizes = {}\n",
        "\n",
        "    # Loop melalui semua subfolder (kelas)\n",
        "    for class_folder in os.listdir(path):\n",
        "        class_path = os.path.join(path, class_folder)\n",
        "\n",
        "        # Pastikan ini adalah folder\n",
        "        if os.path.isdir(class_path):\n",
        "            sizes = []\n",
        "\n",
        "            # Loop melalui gambar di folder kelas\n",
        "            for filename in os.listdir(class_path):\n",
        "                img_path = os.path.join(class_path, filename)\n",
        "\n",
        "                # Pastikan file adalah gambar\n",
        "                if filename.lower().endswith(('.png', '.jpg', '.jpeg', '.bmp', '.gif')):\n",
        "                    try:\n",
        "                        img = cv2.imread(img_path)\n",
        "\n",
        "                        if img is not None:\n",
        "                            height, width, _ = img.shape\n",
        "                            sizes.append((width, height))\n",
        "                    except Exception as e:\n",
        "                        print(f\"Error processing {img_path}: {e}\")\n",
        "\n",
        "            # Simpan ukuran gambar untuk kelas ini\n",
        "            class_sizes[class_folder] = sizes\n",
        "\n",
        "    return class_sizes\n",
        "\n",
        "# Analisis ukuran gambar per kelas\n",
        "class_sizes = analyze_image_sizes_per_class(dataset_path)"
      ],
      "metadata": {
        "id": "2FKYCZzlHZPq"
      },
      "execution_count": 8,
      "outputs": []
    },
    {
      "cell_type": "code",
      "source": [
        "# Total statistik keseluruhan\n",
        "all_widths = [size[0] for sizes in class_sizes.values() for size in sizes]\n",
        "all_heights = [size[1] for sizes in class_sizes.values() for size in sizes]\n",
        "\n",
        "print(\"\\n--- Statistik Keseluruhan ---\")\n",
        "print(f\"Total Jumlah Gambar: {len(all_widths)}\")\n",
        "print(f\"Lebar - Min: {min(all_widths)}, Max: {max(all_widths)}, Rata-rata: {np.mean(all_widths):.2f}\")\n",
        "print(f\"Tinggi - Min: {min(all_heights)}, Max: {max(all_heights)}, Rata-rata: {np.mean(all_heights):.2f}\")"
      ],
      "metadata": {
        "colab": {
          "base_uri": "https://localhost:8080/"
        },
        "id": "90Nc2hYmKQq1",
        "outputId": "ec09459d-cc3e-41c3-a69a-d5cf25667406"
      },
      "execution_count": 9,
      "outputs": [
        {
          "output_type": "stream",
          "name": "stdout",
          "text": [
            "\n",
            "--- Statistik Keseluruhan ---\n",
            "Total Jumlah Gambar: 15515\n",
            "Lebar - Min: 51, Max: 888, Rata-rata: 349.82\n",
            "Tinggi - Min: 100, Max: 936, Rata-rata: 351.71\n"
          ]
        }
      ]
    },
    {
      "cell_type": "code",
      "source": [
        "# Setup figure\n",
        "plt.figure(figsize=(12, 6))\n",
        "\n",
        "plt.subplot(1, 2, 1)\n",
        "plt.hist(all_widths, bins=30, color='skyblue', edgecolor='black')\n",
        "plt.title('Distribusi Lebar Gambar')\n",
        "plt.xlabel('Lebar (pixel)')\n",
        "plt.ylabel('Frekuensi')\n",
        "plt.grid(True, linestyle='--', alpha=0.7)\n",
        "plt.axvline(np.mean(all_widths), color='red', linestyle='dashed', linewidth=1.5, label=f'Rata-rata: {np.mean(all_widths):.1f}')\n",
        "plt.legend()\n",
        "\n",
        "# Plot distribusi tinggi\n",
        "plt.subplot(1, 2, 2)\n",
        "plt.hist(all_heights, bins=30, color='salmon', edgecolor='black')\n",
        "plt.title('Distribusi Tinggi Gambar')\n",
        "plt.xlabel('Tinggi (pixel)')\n",
        "plt.ylabel('Frekuensi')\n",
        "plt.grid(True, linestyle='--', alpha=0.7)\n",
        "plt.axvline(np.mean(all_heights), color='red', linestyle='dashed', linewidth=1.5, label=f'Rata-rata: {np.mean(all_heights):.1f}')\n",
        "plt.legend()\n",
        "\n",
        "plt.tight_layout()\n",
        "plt.show()"
      ],
      "metadata": {
        "colab": {
          "base_uri": "https://localhost:8080/",
          "height": 607
        },
        "id": "_Bq3nNQy6rWD",
        "outputId": "a567b7e4-0d11-4403-e539-4d26250bd430"
      },
      "execution_count": 10,
      "outputs": [
        {
          "output_type": "display_data",
          "data": {
            "text/plain": [
              "<Figure size 1200x600 with 2 Axes>"
            ],
            "image/png": "[encoded data removed]"
          },
          "metadata": {}
        }
      ]
    },
    {
      "cell_type": "markdown",
      "metadata": {
        "id": "bFgLyQPHX98s"
      },
      "source": [
        "### Data Preprocessing"
      ]
    },
    {
      "cell_type": "markdown",
      "source": [
        "#### Split Dataset"
      ],
      "metadata": {
        "id": "9ICO2-E0YxzD"
      }
    },
    {
      "cell_type": "markdown",
      "source": [
        "Melakukan labeling untuk split dataset nanti, serta melakukan resize pada gambar agar seragam"
      ],
      "metadata": {
        "id": "YBJVKavQO2Ny"
      }
    },
    {
      "cell_type": "code",
      "source": [
        "# Output folder\n",
        "output_dir = '/content/garbage_resize'\n",
        "os.makedirs(output_dir, exist_ok=True)\n",
        "\n",
        "# Path dataset\n",
        "dataset_path = '/content/dataset/garbage_classification'\n",
        "label_records = []\n",
        "\n",
        "# Mappingan tema ke label\n",
        "themes = sorted(os.listdir(dataset_path))\n",
        "theme_to_label = {theme: i for i, theme in enumerate(themes)}\n",
        "\n",
        "for theme in themes:\n",
        "    theme_path = os.path.join(dataset_path, theme)\n",
        "    if not os.path.isdir(theme_path):\n",
        "        continue\n",
        "\n",
        "    # Membuat sub-folder untuk setiap tema\n",
        "    theme_output_dir = os.path.join(output_dir, theme)\n",
        "    os.makedirs(theme_output_dir, exist_ok=True)\n",
        "\n",
        "    files = [f for f in os.listdir(theme_path) if f.lower().endswith(('.jpg', '.png', '.jpeg'))]\n",
        "\n",
        "    for file in files:\n",
        "        img_path = os.path.join(theme_path, file)\n",
        "        img = cv2.imread(img_path)\n",
        "        if img is None:\n",
        "            continue\n",
        "\n",
        "        # Mengubah ukuran gambar\n",
        "        img = cv2.cvtColor(img, cv2.COLOR_BGR2RGB)\n",
        "        img = cv2.resize(img, (224, 224), interpolation=cv2.INTER_CUBIC)\n",
        "\n",
        "        # Mengubah nama file sesuai dengan kelas\n",
        "        new_filename = f\"{theme}_{file}\"\n",
        "        output_filepath = os.path.join(theme_output_dir, new_filename)\n",
        "        cv2.imwrite(output_filepath, img)\n",
        "\n",
        "        label = theme_to_label[theme]\n",
        "        label_records.append({'filename': new_filename, 'label': label})\n",
        "\n",
        "# Buat DataFrame label\n",
        "df_labels = pd.DataFrame(label_records, columns=['filename', 'label'])\n",
        "df_labels.to_csv(os.path.join(output_dir, 'labels.csv'), index=False)\n",
        "\n",
        "# Informasi label\n",
        "print(f\"Jumlah label: {len(label_records)}\")\n",
        "print(f\"Contoh label:\\n{df_labels.head()}\")"
      ],
      "metadata": {
        "colab": {
          "base_uri": "https://localhost:8080/"
        },
        "id": "N7Xrjee9WeGG",
        "outputId": "196e81d8-442e-456e-8365-e6b108e931f5"
      },
      "execution_count": 11,
      "outputs": [
        {
          "output_type": "stream",
          "name": "stdout",
          "text": [
            "Jumlah label: 15515\n",
            "Contoh label:\n",
            "                 filename  label\n",
            "0  battery_battery517.jpg      0\n",
            "1  battery_battery647.jpg      0\n",
            "2  battery_battery660.jpg      0\n",
            "3  battery_battery254.jpg      0\n",
            "4  battery_battery121.jpg      0\n"
          ]
        }
      ]
    },
    {
      "cell_type": "markdown",
      "source": [
        "Split dataset yang sudah di labeling dan di resize"
      ],
      "metadata": {
        "id": "Dnsg67oFPA3Q"
      }
    },
    {
      "cell_type": "code",
      "source": [
        "# Path dataset\n",
        "dataset_path = '/content/garbage_resize'\n",
        "output_dir = 'Data_split_garbage_2'\n",
        "\n",
        "# Membuat folder utama untuk menyimpan dataset yang telah dibagi\n",
        "os.makedirs(os.path.join(output_dir, 'train'), exist_ok=True)\n",
        "os.makedirs(os.path.join(output_dir, 'val'), exist_ok=True)\n",
        "os.makedirs(os.path.join(output_dir, 'test'), exist_ok=True)\n",
        "\n",
        "# Daftar kelas\n",
        "classes = [\n",
        " 'brown-glass',\n",
        " 'trash',\n",
        " 'battery',\n",
        " 'clothes',\n",
        " 'shoes',\n",
        " 'plastic',\n",
        " 'cardboard',\n",
        " 'paper',\n",
        " 'white-glass',\n",
        " 'metal',\n",
        " 'biological',\n",
        " 'green-glass']\n",
        "\n",
        "# Iterasi melalui setiap kelas\n",
        "for cls in classes:\n",
        "    class_folder = os.path.join(dataset_path, cls)\n",
        "\n",
        "    if not os.path.isdir(class_folder):\n",
        "        continue\n",
        "\n",
        "    # Dapatkan semua gambar di dalam kelas\n",
        "    images = [f for f in os.listdir(class_folder) if f.lower().endswith(('.jpg', '.jpeg', '.png'))]\n",
        "    image_paths = [os.path.join(class_folder, img) for img in images]\n",
        "\n",
        "    # Split dataset (80% train, 10% val, 10% test)\n",
        "    train_imgs, temp_imgs = train_test_split(image_paths, test_size=0.3, random_state=42)\n",
        "    val_imgs, test_imgs = train_test_split(temp_imgs, test_size=0.3333, random_state=42)\n",
        "\n",
        "    # Fungsi untuk menyimpan gambar yang telah diresize\n",
        "    def save_resized_images(image_list, split):\n",
        "        split_folder = os.path.join(output_dir, split, cls)\n",
        "        os.makedirs(split_folder, exist_ok=True)\n",
        "\n",
        "        for img_path in image_list:\n",
        "            img = cv2.imread(img_path)\n",
        "            if img is not None:\n",
        "                img_resized = cv2.resize(img, (224, 224))  # Resize ke 640x640\n",
        "                # Simpan gambar dengan nama yang sama\n",
        "                cv2.imwrite(os.path.join(split_folder, os.path.basename(img_path)), img_resized)\n",
        "\n",
        "    # Simpan gambar yang telah dibagi dan diresize\n",
        "    save_resized_images(train_imgs, 'train')\n",
        "    save_resized_images(val_imgs, 'val')\n",
        "    save_resized_images(test_imgs, 'test')"
      ],
      "metadata": {
        "id": "DbvL1DIaaOGB"
      },
      "execution_count": 12,
      "outputs": []
    },
    {
      "cell_type": "markdown",
      "source": [
        "Membuat Generator"
      ],
      "metadata": {
        "id": "SofrSEEdiXvc"
      }
    },
    {
      "cell_type": "code",
      "source": [
        "# Path ke dataset\n",
        "train_dir = 'Data_split_garbage_2/train'\n",
        "val_dir = 'Data_split_garbage_2/val'\n",
        "test_dir = 'Data_split_garbage_2/test'\n",
        "\n",
        "train_datagen = ImageDataGenerator(\n",
        "    preprocessing_function=preprocess_input,\n",
        "    rotation_range=20,\n",
        "    width_shift_range=0.2,\n",
        "    height_shift_range=0.2,\n",
        "    zoom_range=0.2,\n",
        "    horizontal_flip=True\n",
        "    )\n",
        "\n",
        "val_datagen = ImageDataGenerator(preprocessing_function=preprocess_input)\n",
        "test_datagen = ImageDataGenerator(preprocessing_function=preprocess_input)\n",
        "\n",
        "train_generator = train_datagen.flow_from_directory(\n",
        "    train_dir,\n",
        "    target_size=(224, 224),\n",
        "    batch_size=32,\n",
        "    class_mode='categorical'\n",
        ")\n",
        "\n",
        "val_generator = val_datagen.flow_from_directory(\n",
        "    val_dir,\n",
        "    target_size=(224, 224),\n",
        "    batch_size=32,\n",
        "    class_mode='categorical'\n",
        ")\n",
        "\n",
        "# Definisi test_generator\n",
        "test_generator = test_datagen.flow_from_directory(\n",
        "    test_dir,\n",
        "    target_size=(224, 224),\n",
        "    batch_size=32,\n",
        "    class_mode='categorical',\n",
        "    shuffle=False\n",
        ")"
      ],
      "metadata": {
        "colab": {
          "base_uri": "https://localhost:8080/"
        },
        "id": "87pYPeZ6iWn-",
        "outputId": "5d3b9010-1854-4ddc-9d0a-a06fffdfd560"
      },
      "execution_count": 13,
      "outputs": [
        {
          "output_type": "stream",
          "name": "stdout",
          "text": [
            "Found 10854 images belonging to 12 classes.\n",
            "Found 3105 images belonging to 12 classes.\n",
            "Found 1556 images belonging to 12 classes.\n"
          ]
        }
      ]
    },
    {
      "cell_type": "markdown",
      "metadata": {
        "id": "nc-Ph-oIYAUU"
      },
      "source": [
        "## Modelling"
      ]
    },
    {
      "cell_type": "code",
      "execution_count": 14,
      "metadata": {
        "id": "UTwK0t8XYAUU",
        "colab": {
          "base_uri": "https://localhost:8080/"
        },
        "outputId": "f7332e18-fb3a-46d9-f2b2-d93d3a359c31"
      },
      "outputs": [
        {
          "output_type": "stream",
          "name": "stdout",
          "text": [
            "Downloading data from https://storage.googleapis.com/tensorflow/keras-applications/mobilenet_v2/mobilenet_v2_weights_tf_dim_ordering_tf_kernels_1.0_224_no_top.h5\n",
            "\u001b[1m9406464/9406464\u001b[0m \u001b[32m━━━━━━━━━━━━━━━━━━━━\u001b[0m\u001b[37m\u001b[0m \u001b[1m0s\u001b[0m 0us/step\n"
          ]
        }
      ],
      "source": [
        "# Membangun Model dengan Sequential dan MobileNetV2\n",
        "# Load base model\n",
        "base_model = MobileNetV2(weights='imagenet', include_top=False, input_shape=(224, 224, 3))\n",
        "base_model.trainable = False  # freeze layer awal\n",
        "\n",
        "# Buat model akhir\n",
        "model = models.Sequential([\n",
        "    base_model,\n",
        "    Conv2D(128, (3, 3), activation='relu', padding='same'),\n",
        "    BatchNormalization(),\n",
        "    MaxPooling2D(pool_size=(2, 2)),\n",
        "    Dropout(0.3),\n",
        "\n",
        "    layers.GlobalAveragePooling2D(),\n",
        "    layers.Dense(256, activation='relu', kernel_regularizer=l2(0.001)),\n",
        "    Dropout(0.3),\n",
        "    Dense(128, activation='relu', kernel_regularizer=l2(0.001)),\n",
        "    Dropout(0.2),\n",
        "    layers.Dense(12, activation='softmax', kernel_regularizer=l2(0.001))\n",
        "])"
      ]
    },
    {
      "cell_type": "code",
      "source": [
        "# Compile model\n",
        "model.compile(optimizer='adam',\n",
        "              loss='categorical_crossentropy',\n",
        "              metrics=['accuracy'])"
      ],
      "metadata": {
        "id": "HlYPpK5ZkjmX"
      },
      "execution_count": 15,
      "outputs": []
    },
    {
      "cell_type": "code",
      "source": [
        "# Callback\n",
        "early_stopping = EarlyStopping(monitor='val_loss', patience=10, restore_best_weights=True)\n",
        "reduce_lr = ReduceLROnPlateau(monitor='val_loss', factor=0.2, patience=5, verbose=1)\n",
        "model_checkpoint = ModelCheckpoint('best_model.h5', save_best_only=True, monitor='val_accuracy')"
      ],
      "metadata": {
        "id": "TGLk2jWhklvT"
      },
      "execution_count": 16,
      "outputs": []
    },
    {
      "cell_type": "code",
      "source": [
        "history = model.fit(\n",
        "    train_generator,\n",
        "    validation_data=val_generator,\n",
        "    epochs=25,\n",
        "    callbacks=[early_stopping, reduce_lr, model_checkpoint]\n",
        ")"
      ],
      "metadata": {
        "colab": {
          "base_uri": "https://localhost:8080/"
        },
        "id": "N3ijYcg878Y0",
        "outputId": "b1649d48-d31f-482b-cefd-38f3dbcd2ac9"
      },
      "execution_count": 17,
      "outputs": [
        {
          "output_type": "stream",
          "name": "stderr",
          "text": [
            "/usr/local/lib/python3.11/dist-packages/keras/src/trainers/data_adapters/py_dataset_adapter.py:121: UserWarning: Your `PyDataset` class should call `super().__init__(**kwargs)` in its constructor. `**kwargs` can include `workers`, `use_multiprocessing`, `max_queue_size`. Do not pass these arguments to `fit()`, as they will be ignored.\n",
            "  self._warn_if_super_not_called()\n"
          ]
        },
        {
          "output_type": "stream",
          "name": "stdout",
          "text": [
            "Epoch 1/25\n",
            "\u001b[1m340/340\u001b[0m \u001b[32m━━━━━━━━━━━━━━━━━━━━\u001b[0m\u001b[37m\u001b[0m \u001b[1m0s\u001b[0m 2s/step - accuracy: 0.7256 - loss: 1.2286"
          ]
        },
        {
          "output_type": "stream",
          "name": "stderr",
          "text": [
            "WARNING:absl:You are saving your model as an HDF5 file via `model.save()` or `keras.saving.save_model(model)`. This file format is considered legacy. We recommend using instead the native Keras format, e.g. `model.save('my_model.keras')` or `keras.saving.save_model(model, 'my_model.keras')`. \n"
          ]
        },
        {
          "output_type": "stream",
          "name": "stdout",
          "text": [
            "\b\b\b\b\b\b\b\b\b\b\b\b\b\b\b\b\b\b\b\b\b\b\b\b\b\b\b\b\b\b\b\b\b\b\b\b\b\b\b\b\b\b\b\b\b\b\b\b\b\b\b\b\b\b\b\b\b\b\b\b\b\b\b\b\b\b\b\b\b\b\b\b\b\r\u001b[1m340/340\u001b[0m \u001b[32m━━━━━━━━━━━━━━━━━━━━\u001b[0m\u001b[37m\u001b[0m \u001b[1m775s\u001b[0m 2s/step - accuracy: 0.7259 - loss: 1.2277 - val_accuracy: 0.9108 - val_loss: 0.6037 - learning_rate: 0.0010\n",
            "Epoch 2/25\n",
            "\u001b[1m340/340\u001b[0m \u001b[32m━━━━━━━━━━━━━━━━━━━━\u001b[0m\u001b[37m\u001b[0m \u001b[1m0s\u001b[0m 2s/step - accuracy: 0.8878 - loss: 0.6525"
          ]
        },
        {
          "output_type": "stream",
          "name": "stderr",
          "text": [
            "WARNING:absl:You are saving your model as an HDF5 file via `model.save()` or `keras.saving.save_model(model)`. This file format is considered legacy. We recommend using instead the native Keras format, e.g. `model.save('my_model.keras')` or `keras.saving.save_model(model, 'my_model.keras')`. \n"
          ]
        },
        {
          "output_type": "stream",
          "name": "stdout",
          "text": [
            "\b\b\b\b\b\b\b\b\b\b\b\b\b\b\b\b\b\b\b\b\b\b\b\b\b\b\b\b\b\b\b\b\b\b\b\b\b\b\b\b\b\b\b\b\b\b\b\b\b\b\b\b\b\b\b\b\b\b\b\b\b\b\b\b\b\b\b\b\b\b\b\b\b\r\u001b[1m340/340\u001b[0m \u001b[32m━━━━━━━━━━━━━━━━━━━━\u001b[0m\u001b[37m\u001b[0m \u001b[1m792s\u001b[0m 2s/step - accuracy: 0.8878 - loss: 0.6524 - val_accuracy: 0.9224 - val_loss: 0.5060 - learning_rate: 0.0010\n",
            "Epoch 3/25\n",
            "\u001b[1m340/340\u001b[0m \u001b[32m━━━━━━━━━━━━━━━━━━━━\u001b[0m\u001b[37m\u001b[0m \u001b[1m0s\u001b[0m 2s/step - accuracy: 0.9084 - loss: 0.5228"
          ]
        },
        {
          "output_type": "stream",
          "name": "stderr",
          "text": [
            "WARNING:absl:You are saving your model as an HDF5 file via `model.save()` or `keras.saving.save_model(model)`. This file format is considered legacy. We recommend using instead the native Keras format, e.g. `model.save('my_model.keras')` or `keras.saving.save_model(model, 'my_model.keras')`. \n"
          ]
        },
        {
          "output_type": "stream",
          "name": "stdout",
          "text": [
            "\b\b\b\b\b\b\b\b\b\b\b\b\b\b\b\b\b\b\b\b\b\b\b\b\b\b\b\b\b\b\b\b\b\b\b\b\b\b\b\b\b\b\b\b\b\b\b\b\b\b\b\b\b\b\b\b\b\b\b\b\b\b\b\b\b\b\b\b\b\b\b\b\b\r\u001b[1m340/340\u001b[0m \u001b[32m━━━━━━━━━━━━━━━━━━━━\u001b[0m\u001b[37m\u001b[0m \u001b[1m759s\u001b[0m 2s/step - accuracy: 0.9084 - loss: 0.5228 - val_accuracy: 0.9311 - val_loss: 0.4445 - learning_rate: 0.0010\n",
            "Epoch 4/25\n",
            "\u001b[1m340/340\u001b[0m \u001b[32m━━━━━━━━━━━━━━━━━━━━\u001b[0m\u001b[37m\u001b[0m \u001b[1m0s\u001b[0m 2s/step - accuracy: 0.9258 - loss: 0.4376"
          ]
        },
        {
          "output_type": "stream",
          "name": "stderr",
          "text": [
            "WARNING:absl:You are saving your model as an HDF5 file via `model.save()` or `keras.saving.save_model(model)`. This file format is considered legacy. We recommend using instead the native Keras format, e.g. `model.save('my_model.keras')` or `keras.saving.save_model(model, 'my_model.keras')`. \n"
          ]
        },
        {
          "output_type": "stream",
          "name": "stdout",
          "text": [
            "\b\b\b\b\b\b\b\b\b\b\b\b\b\b\b\b\b\b\b\b\b\b\b\b\b\b\b\b\b\b\b\b\b\b\b\b\b\b\b\b\b\b\b\b\b\b\b\b\b\b\b\b\b\b\b\b\b\b\b\b\b\b\b\b\b\b\b\b\b\b\b\b\b\r\u001b[1m340/340\u001b[0m \u001b[32m━━━━━━━━━━━━━━━━━━━━\u001b[0m\u001b[37m\u001b[0m \u001b[1m854s\u001b[0m 3s/step - accuracy: 0.9258 - loss: 0.4376 - val_accuracy: 0.9320 - val_loss: 0.4028 - learning_rate: 0.0010\n",
            "Epoch 5/25\n",
            "\u001b[1m340/340\u001b[0m \u001b[32m━━━━━━━━━━━━━━━━━━━━\u001b[0m\u001b[37m\u001b[0m \u001b[1m744s\u001b[0m 2s/step - accuracy: 0.9343 - loss: 0.3824 - val_accuracy: 0.9246 - val_loss: 0.3979 - learning_rate: 0.0010\n",
            "Epoch 6/25\n",
            "\u001b[1m340/340\u001b[0m \u001b[32m━━━━━━━━━━━━━━━━━━━━\u001b[0m\u001b[37m\u001b[0m \u001b[1m0s\u001b[0m 2s/step - accuracy: 0.9376 - loss: 0.3350"
          ]
        },
        {
          "output_type": "stream",
          "name": "stderr",
          "text": [
            "WARNING:absl:You are saving your model as an HDF5 file via `model.save()` or `keras.saving.save_model(model)`. This file format is considered legacy. We recommend using instead the native Keras format, e.g. `model.save('my_model.keras')` or `keras.saving.save_model(model, 'my_model.keras')`. \n"
          ]
        },
        {
          "output_type": "stream",
          "name": "stdout",
          "text": [
            "\b\b\b\b\b\b\b\b\b\b\b\b\b\b\b\b\b\b\b\b\b\b\b\b\b\b\b\b\b\b\b\b\b\b\b\b\b\b\b\b\b\b\b\b\b\b\b\b\b\b\b\b\b\b\b\b\b\b\b\b\b\b\b\b\b\b\b\b\b\b\b\b\b\r\u001b[1m340/340\u001b[0m \u001b[32m━━━━━━━━━━━━━━━━━━━━\u001b[0m\u001b[37m\u001b[0m \u001b[1m808s\u001b[0m 2s/step - accuracy: 0.9376 - loss: 0.3351 - val_accuracy: 0.9359 - val_loss: 0.3530 - learning_rate: 0.0010\n",
            "Epoch 7/25\n",
            "\u001b[1m340/340\u001b[0m \u001b[32m━━━━━━━━━━━━━━━━━━━━\u001b[0m\u001b[37m\u001b[0m \u001b[1m745s\u001b[0m 2s/step - accuracy: 0.9464 - loss: 0.3080 - val_accuracy: 0.9359 - val_loss: 0.3289 - learning_rate: 0.0010\n",
            "Epoch 8/25\n",
            "\u001b[1m340/340\u001b[0m \u001b[32m━━━━━━━━━━━━━━━━━━━━\u001b[0m\u001b[37m\u001b[0m \u001b[1m744s\u001b[0m 2s/step - accuracy: 0.9529 - loss: 0.2705 - val_accuracy: 0.9353 - val_loss: 0.3329 - learning_rate: 0.0010\n",
            "Epoch 9/25\n",
            "\u001b[1m340/340\u001b[0m \u001b[32m━━━━━━━━━━━━━━━━━━━━\u001b[0m\u001b[37m\u001b[0m \u001b[1m744s\u001b[0m 2s/step - accuracy: 0.9472 - loss: 0.2611 - val_accuracy: 0.9349 - val_loss: 0.3153 - learning_rate: 0.0010\n",
            "Epoch 10/25\n",
            "\u001b[1m340/340\u001b[0m \u001b[32m━━━━━━━━━━━━━━━━━━━━\u001b[0m\u001b[37m\u001b[0m \u001b[1m744s\u001b[0m 2s/step - accuracy: 0.9516 - loss: 0.2445 - val_accuracy: 0.9340 - val_loss: 0.3034 - learning_rate: 0.0010\n",
            "Epoch 11/25\n",
            "\u001b[1m340/340\u001b[0m \u001b[32m━━━━━━━━━━━━━━━━━━━━\u001b[0m\u001b[37m\u001b[0m \u001b[1m744s\u001b[0m 2s/step - accuracy: 0.9545 - loss: 0.2361 - val_accuracy: 0.9353 - val_loss: 0.3422 - learning_rate: 0.0010\n",
            "Epoch 12/25\n",
            "\u001b[1m340/340\u001b[0m \u001b[32m━━━━━━━━━━━━━━━━━━━━\u001b[0m\u001b[37m\u001b[0m \u001b[1m740s\u001b[0m 2s/step - accuracy: 0.9573 - loss: 0.2302 - val_accuracy: 0.9327 - val_loss: 0.3374 - learning_rate: 0.0010\n",
            "Epoch 13/25\n",
            "\u001b[1m340/340\u001b[0m \u001b[32m━━━━━━━━━━━━━━━━━━━━\u001b[0m\u001b[37m\u001b[0m \u001b[1m0s\u001b[0m 2s/step - accuracy: 0.9613 - loss: 0.2087"
          ]
        },
        {
          "output_type": "stream",
          "name": "stderr",
          "text": [
            "WARNING:absl:You are saving your model as an HDF5 file via `model.save()` or `keras.saving.save_model(model)`. This file format is considered legacy. We recommend using instead the native Keras format, e.g. `model.save('my_model.keras')` or `keras.saving.save_model(model, 'my_model.keras')`. \n"
          ]
        },
        {
          "output_type": "stream",
          "name": "stdout",
          "text": [
            "\b\b\b\b\b\b\b\b\b\b\b\b\b\b\b\b\b\b\b\b\b\b\b\b\b\b\b\b\b\b\b\b\b\b\b\b\b\b\b\b\b\b\b\b\b\b\b\b\b\b\b\b\b\b\b\b\b\b\b\b\b\b\b\b\b\b\b\b\b\b\b\b\b\r\u001b[1m340/340\u001b[0m \u001b[32m━━━━━━━━━━━━━━━━━━━━\u001b[0m\u001b[37m\u001b[0m \u001b[1m754s\u001b[0m 2s/step - accuracy: 0.9613 - loss: 0.2087 - val_accuracy: 0.9362 - val_loss: 0.3153 - learning_rate: 0.0010\n",
            "Epoch 14/25\n",
            "\u001b[1m340/340\u001b[0m \u001b[32m━━━━━━━━━━━━━━━━━━━━\u001b[0m\u001b[37m\u001b[0m \u001b[1m0s\u001b[0m 2s/step - accuracy: 0.9613 - loss: 0.2105"
          ]
        },
        {
          "output_type": "stream",
          "name": "stderr",
          "text": [
            "WARNING:absl:You are saving your model as an HDF5 file via `model.save()` or `keras.saving.save_model(model)`. This file format is considered legacy. We recommend using instead the native Keras format, e.g. `model.save('my_model.keras')` or `keras.saving.save_model(model, 'my_model.keras')`. \n"
          ]
        },
        {
          "output_type": "stream",
          "name": "stdout",
          "text": [
            "\b\b\b\b\b\b\b\b\b\b\b\b\b\b\b\b\b\b\b\b\b\b\b\b\b\b\b\b\b\b\b\b\b\b\b\b\b\b\b\b\b\b\b\b\b\b\b\b\b\b\b\b\b\b\b\b\b\b\b\b\b\b\b\b\b\b\b\b\b\b\b\b\b\r\u001b[1m340/340\u001b[0m \u001b[32m━━━━━━━━━━━━━━━━━━━━\u001b[0m\u001b[37m\u001b[0m \u001b[1m747s\u001b[0m 2s/step - accuracy: 0.9613 - loss: 0.2105 - val_accuracy: 0.9388 - val_loss: 0.3173 - learning_rate: 0.0010\n",
            "Epoch 15/25\n",
            "\u001b[1m340/340\u001b[0m \u001b[32m━━━━━━━━━━━━━━━━━━━━\u001b[0m\u001b[37m\u001b[0m \u001b[1m0s\u001b[0m 2s/step - accuracy: 0.9638 - loss: 0.1986\n",
            "Epoch 15: ReduceLROnPlateau reducing learning rate to 0.00020000000949949026.\n",
            "\u001b[1m340/340\u001b[0m \u001b[32m━━━━━━━━━━━━━━━━━━━━\u001b[0m\u001b[37m\u001b[0m \u001b[1m757s\u001b[0m 2s/step - accuracy: 0.9638 - loss: 0.1986 - val_accuracy: 0.9353 - val_loss: 0.3307 - learning_rate: 0.0010\n",
            "Epoch 16/25\n",
            "\u001b[1m340/340\u001b[0m \u001b[32m━━━━━━━━━━━━━━━━━━━━\u001b[0m\u001b[37m\u001b[0m \u001b[1m0s\u001b[0m 2s/step - accuracy: 0.9702 - loss: 0.1774"
          ]
        },
        {
          "output_type": "stream",
          "name": "stderr",
          "text": [
            "WARNING:absl:You are saving your model as an HDF5 file via `model.save()` or `keras.saving.save_model(model)`. This file format is considered legacy. We recommend using instead the native Keras format, e.g. `model.save('my_model.keras')` or `keras.saving.save_model(model, 'my_model.keras')`. \n"
          ]
        },
        {
          "output_type": "stream",
          "name": "stdout",
          "text": [
            "\b\b\b\b\b\b\b\b\b\b\b\b\b\b\b\b\b\b\b\b\b\b\b\b\b\b\b\b\b\b\b\b\b\b\b\b\b\b\b\b\b\b\b\b\b\b\b\b\b\b\b\b\b\b\b\b\b\b\b\b\b\b\b\b\b\b\b\b\b\b\b\b\b\r\u001b[1m340/340\u001b[0m \u001b[32m━━━━━━━━━━━━━━━━━━━━\u001b[0m\u001b[37m\u001b[0m \u001b[1m744s\u001b[0m 2s/step - accuracy: 0.9702 - loss: 0.1774 - val_accuracy: 0.9446 - val_loss: 0.2955 - learning_rate: 2.0000e-04\n",
            "Epoch 17/25\n",
            "\u001b[1m340/340\u001b[0m \u001b[32m━━━━━━━━━━━━━━━━━━━━\u001b[0m\u001b[37m\u001b[0m \u001b[1m0s\u001b[0m 2s/step - accuracy: 0.9761 - loss: 0.1563"
          ]
        },
        {
          "output_type": "stream",
          "name": "stderr",
          "text": [
            "WARNING:absl:You are saving your model as an HDF5 file via `model.save()` or `keras.saving.save_model(model)`. This file format is considered legacy. We recommend using instead the native Keras format, e.g. `model.save('my_model.keras')` or `keras.saving.save_model(model, 'my_model.keras')`. \n"
          ]
        },
        {
          "output_type": "stream",
          "name": "stdout",
          "text": [
            "\b\b\b\b\b\b\b\b\b\b\b\b\b\b\b\b\b\b\b\b\b\b\b\b\b\b\b\b\b\b\b\b\b\b\b\b\b\b\b\b\b\b\b\b\b\b\b\b\b\b\b\b\b\b\b\b\b\b\b\b\b\b\b\b\b\b\b\b\b\b\b\b\b\r\u001b[1m340/340\u001b[0m \u001b[32m━━━━━━━━━━━━━━━━━━━━\u001b[0m\u001b[37m\u001b[0m \u001b[1m756s\u001b[0m 2s/step - accuracy: 0.9761 - loss: 0.1563 - val_accuracy: 0.9491 - val_loss: 0.2720 - learning_rate: 2.0000e-04\n",
            "Epoch 18/25\n",
            "\u001b[1m340/340\u001b[0m \u001b[32m━━━━━━━━━━━━━━━━━━━━\u001b[0m\u001b[37m\u001b[0m \u001b[1m748s\u001b[0m 2s/step - accuracy: 0.9810 - loss: 0.1396 - val_accuracy: 0.9481 - val_loss: 0.2775 - learning_rate: 2.0000e-04\n",
            "Epoch 19/25\n",
            "\u001b[1m340/340\u001b[0m \u001b[32m━━━━━━━━━━━━━━━━━━━━\u001b[0m\u001b[37m\u001b[0m \u001b[1m800s\u001b[0m 2s/step - accuracy: 0.9804 - loss: 0.1373 - val_accuracy: 0.9469 - val_loss: 0.2735 - learning_rate: 2.0000e-04\n",
            "Epoch 20/25\n",
            "\u001b[1m340/340\u001b[0m \u001b[32m━━━━━━━━━━━━━━━━━━━━\u001b[0m\u001b[37m\u001b[0m \u001b[1m0s\u001b[0m 2s/step - accuracy: 0.9783 - loss: 0.1406"
          ]
        },
        {
          "output_type": "stream",
          "name": "stderr",
          "text": [
            "WARNING:absl:You are saving your model as an HDF5 file via `model.save()` or `keras.saving.save_model(model)`. This file format is considered legacy. We recommend using instead the native Keras format, e.g. `model.save('my_model.keras')` or `keras.saving.save_model(model, 'my_model.keras')`. \n"
          ]
        },
        {
          "output_type": "stream",
          "name": "stdout",
          "text": [
            "\b\b\b\b\b\b\b\b\b\b\b\b\b\b\b\b\b\b\b\b\b\b\b\b\b\b\b\b\b\b\b\b\b\b\b\b\b\b\b\b\b\b\b\b\b\b\b\b\b\b\b\b\b\b\b\b\b\b\b\b\b\b\b\b\b\b\b\b\b\b\b\b\b\r\u001b[1m340/340\u001b[0m \u001b[32m━━━━━━━━━━━━━━━━━━━━\u001b[0m\u001b[37m\u001b[0m \u001b[1m747s\u001b[0m 2s/step - accuracy: 0.9783 - loss: 0.1406 - val_accuracy: 0.9494 - val_loss: 0.2683 - learning_rate: 2.0000e-04\n",
            "Epoch 21/25\n",
            "\u001b[1m340/340\u001b[0m \u001b[32m━━━━━━━━━━━━━━━━━━━━\u001b[0m\u001b[37m\u001b[0m \u001b[1m762s\u001b[0m 2s/step - accuracy: 0.9782 - loss: 0.1359 - val_accuracy: 0.9459 - val_loss: 0.2683 - learning_rate: 2.0000e-04\n",
            "Epoch 22/25\n",
            "\u001b[1m340/340\u001b[0m \u001b[32m━━━━━━━━━━━━━━━━━━━━\u001b[0m\u001b[37m\u001b[0m \u001b[1m752s\u001b[0m 2s/step - accuracy: 0.9790 - loss: 0.1332 - val_accuracy: 0.9456 - val_loss: 0.2818 - learning_rate: 2.0000e-04\n",
            "Epoch 23/25\n",
            "\u001b[1m340/340\u001b[0m \u001b[32m━━━━━━━━━━━━━━━━━━━━\u001b[0m\u001b[37m\u001b[0m \u001b[1m767s\u001b[0m 2s/step - accuracy: 0.9816 - loss: 0.1281 - val_accuracy: 0.9449 - val_loss: 0.2681 - learning_rate: 2.0000e-04\n",
            "Epoch 24/25\n",
            "\u001b[1m340/340\u001b[0m \u001b[32m━━━━━━━━━━━━━━━━━━━━\u001b[0m\u001b[37m\u001b[0m \u001b[1m753s\u001b[0m 2s/step - accuracy: 0.9840 - loss: 0.1213 - val_accuracy: 0.9452 - val_loss: 0.2710 - learning_rate: 2.0000e-04\n",
            "Epoch 25/25\n",
            "\u001b[1m340/340\u001b[0m \u001b[32m━━━━━━━━━━━━━━━━━━━━\u001b[0m\u001b[37m\u001b[0m \u001b[1m756s\u001b[0m 2s/step - accuracy: 0.9845 - loss: 0.1184 - val_accuracy: 0.9478 - val_loss: 0.2672 - learning_rate: 2.0000e-04\n"
          ]
        }
      ]
    },
    {
      "cell_type": "markdown",
      "metadata": {
        "id": "XctzCfzbYCBK"
      },
      "source": [
        "## Evaluasi dan Visualisasi"
      ]
    },
    {
      "cell_type": "code",
      "execution_count": 18,
      "metadata": {
        "id": "EKk-ScZWYCBK",
        "colab": {
          "base_uri": "https://localhost:8080/"
        },
        "outputId": "aa498908-a148-49c0-c119-30aba89ed2cf"
      },
      "outputs": [
        {
          "output_type": "stream",
          "name": "stdout",
          "text": [
            "\u001b[1m49/49\u001b[0m \u001b[32m━━━━━━━━━━━━━━━━━━━━\u001b[0m\u001b[37m\u001b[0m \u001b[1m68s\u001b[0m 1s/step - accuracy: 0.9519 - loss: 0.2412\n",
            "Test Loss: 0.2976, Test Accuracy: 0.9402\n"
          ]
        }
      ],
      "source": [
        "# Evaluasi Model\n",
        "test_loss, test_accuracy = model.evaluate(test_generator)\n",
        "print(f\"Test Loss: {test_loss:.4f}, Test Accuracy: {test_accuracy:.4f}\")"
      ]
    },
    {
      "cell_type": "code",
      "source": [
        "plt.figure(figsize=(12, 5))\n",
        "plt.subplot(1, 2, 1)\n",
        "plt.plot(history.history['accuracy'], label='Train Acc')\n",
        "plt.plot(history.history['val_accuracy'], label='Val Acc')\n",
        "plt.legend(); plt.title('Accuracy')\n",
        "plt.subplot(1, 2, 2)\n",
        "plt.plot(history.history['loss'], label='Train Loss')\n",
        "plt.plot(history.history['val_loss'], label='Val Loss')\n",
        "plt.legend(); plt.title('Loss')\n",
        "plt.show()"
      ],
      "metadata": {
        "colab": {
          "base_uri": "https://localhost:8080/",
          "height": 468
        },
        "id": "24wRA47k54f5",
        "outputId": "06280409-0c24-4d7e-8c75-bae61b99ca6c"
      },
      "execution_count": 19,
      "outputs": [
        {
          "output_type": "display_data",
          "data": {
            "text/plain": [
              "<Figure size 1200x500 with 2 Axes>"
            ],
            "image/png": "[encoded data removed]"
          },
          "metadata": {}
        }
      ]
    },
    {
      "cell_type": "markdown",
      "metadata": {
        "id": "y_fIsUogYFSk"
      },
      "source": [
        "## Konversi Model"
      ]
    },
    {
      "cell_type": "markdown",
      "source": [
        "**Saved Model**"
      ],
      "metadata": {
        "id": "rgt8e1RrebIj"
      }
    },
    {
      "cell_type": "code",
      "source": [
        "model.save('saved_model_garbage.keras')"
      ],
      "metadata": {
        "id": "wkfb0hFa3rxy"
      },
      "execution_count": 21,
      "outputs": []
    },
    {
      "cell_type": "code",
      "source": [
        "model = load_model(\"saved_model_garbage.keras\")\n",
        "model.summary()"
      ],
      "metadata": {
        "colab": {
          "base_uri": "https://localhost:8080/",
          "height": 619
        },
        "id": "RWGb-s153ve6",
        "outputId": "f359d8d3-3193-4fea-a74f-03801f77933d"
      },
      "execution_count": 23,
      "outputs": [
        {
          "output_type": "stream",
          "name": "stderr",
          "text": [
            "/usr/local/lib/python3.11/dist-packages/keras/src/saving/saving_lib.py:757: UserWarning: Skipping variable loading for optimizer 'rmsprop', because it has 12 variables whereas the saved optimizer has 22 variables. \n",
            "  saveable.load_own_variables(weights_store.get(inner_path))\n"
          ]
        },
        {
          "output_type": "display_data",
          "data": {
            "text/plain": [
              "\u001b[1mModel: \"sequential\"\u001b[0m\n"
            ],
            "text/html": [
              "<pre style=\"white-space:pre;overflow-x:auto;line-height:normal;font-family:Menlo,'DejaVu Sans Mono',consolas,'Courier New',monospace\"><span style=\"font-weight: bold\">Model: \"sequential\"</span>\n",
              "</pre>\n"
            ]
          },
          "metadata": {}
        },
        {
          "output_type": "display_data",
          "data": {
            "text/plain": [
              "┏━━━━━━━━━━━━━━━━━━━━━━━━━━━━━━━━━┳━━━━━━━━━━━━━━━━━━━━━━━━┳━━━━━━━━━━━━━━━┓\n",
              "┃\u001b[1m \u001b[0m\u001b[1mLayer (type)                   \u001b[0m\u001b[1m \u001b[0m┃\u001b[1m \u001b[0m\u001b[1mOutput Shape          \u001b[0m\u001b[1m \u001b[0m┃\u001b[1m \u001b[0m\u001b[1m      Param #\u001b[0m\u001b[1m \u001b[0m┃\n",
              "┡━━━━━━━━━━━━━━━━━━━━━━━━━━━━━━━━━╇━━━━━━━━━━━━━━━━━━━━━━━━╇━━━━━━━━━━━━━━━┩\n",
              "│ mobilenetv2_1.00_224            │ (\u001b[38;5;45mNone\u001b[0m, \u001b[38;5;34m7\u001b[0m, \u001b[38;5;34m7\u001b[0m, \u001b[38;5;34m1280\u001b[0m)     │     \u001b[38;5;34m2,257,984\u001b[0m │\n",
              "│ (\u001b[38;5;33mFunctional\u001b[0m)                    │                        │               │\n",
              "├─────────────────────────────────┼────────────────────────┼───────────────┤\n",
              "│ conv2d (\u001b[38;5;33mConv2D\u001b[0m)                 │ (\u001b[38;5;45mNone\u001b[0m, \u001b[38;5;34m7\u001b[0m, \u001b[38;5;34m7\u001b[0m, \u001b[38;5;34m128\u001b[0m)      │     \u001b[38;5;34m1,474,688\u001b[0m │\n",
              "├─────────────────────────────────┼────────────────────────┼───────────────┤\n",
              "│ batch_normalization             │ (\u001b[38;5;45mNone\u001b[0m, \u001b[38;5;34m7\u001b[0m, \u001b[38;5;34m7\u001b[0m, \u001b[38;5;34m128\u001b[0m)      │           \u001b[38;5;34m512\u001b[0m │\n",
              "│ (\u001b[38;5;33mBatchNormalization\u001b[0m)            │                        │               │\n",
              "├─────────────────────────────────┼────────────────────────┼───────────────┤\n",
              "│ max_pooling2d (\u001b[38;5;33mMaxPooling2D\u001b[0m)    │ (\u001b[38;5;45mNone\u001b[0m, \u001b[38;5;34m3\u001b[0m, \u001b[38;5;34m3\u001b[0m, \u001b[38;5;34m128\u001b[0m)      │             \u001b[38;5;34m0\u001b[0m │\n",
              "├─────────────────────────────────┼────────────────────────┼───────────────┤\n",
              "│ dropout (\u001b[38;5;33mDropout\u001b[0m)               │ (\u001b[38;5;45mNone\u001b[0m, \u001b[38;5;34m3\u001b[0m, \u001b[38;5;34m3\u001b[0m, \u001b[38;5;34m128\u001b[0m)      │             \u001b[38;5;34m0\u001b[0m │\n",
              "├─────────────────────────────────┼────────────────────────┼───────────────┤\n",
              "│ global_average_pooling2d        │ (\u001b[38;5;45mNone\u001b[0m, \u001b[38;5;34m128\u001b[0m)            │             \u001b[38;5;34m0\u001b[0m │\n",
              "│ (\u001b[38;5;33mGlobalAveragePooling2D\u001b[0m)        │                        │               │\n",
              "├─────────────────────────────────┼────────────────────────┼───────────────┤\n",
              "│ dense (\u001b[38;5;33mDense\u001b[0m)                   │ (\u001b[38;5;45mNone\u001b[0m, \u001b[38;5;34m256\u001b[0m)            │        \u001b[38;5;34m33,024\u001b[0m │\n",
              "├─────────────────────────────────┼────────────────────────┼───────────────┤\n",
              "│ dropout_1 (\u001b[38;5;33mDropout\u001b[0m)             │ (\u001b[38;5;45mNone\u001b[0m, \u001b[38;5;34m256\u001b[0m)            │             \u001b[38;5;34m0\u001b[0m │\n",
              "├─────────────────────────────────┼────────────────────────┼───────────────┤\n",
              "│ dense_1 (\u001b[38;5;33mDense\u001b[0m)                 │ (\u001b[38;5;45mNone\u001b[0m, \u001b[38;5;34m128\u001b[0m)            │        \u001b[38;5;34m32,896\u001b[0m │\n",
              "├─────────────────────────────────┼────────────────────────┼───────────────┤\n",
              "│ dropout_2 (\u001b[38;5;33mDropout\u001b[0m)             │ (\u001b[38;5;45mNone\u001b[0m, \u001b[38;5;34m128\u001b[0m)            │             \u001b[38;5;34m0\u001b[0m │\n",
              "├─────────────────────────────────┼────────────────────────┼───────────────┤\n",
              "│ dense_2 (\u001b[38;5;33mDense\u001b[0m)                 │ (\u001b[38;5;45mNone\u001b[0m, \u001b[38;5;34m12\u001b[0m)             │         \u001b[38;5;34m1,548\u001b[0m │\n",
              "└─────────────────────────────────┴────────────────────────┴───────────────┘\n"
            ],
            "text/html": [
              "<pre style=\"white-space:pre;overflow-x:auto;line-height:normal;font-family:Menlo,'DejaVu Sans Mono',consolas,'Courier New',monospace\">┏━━━━━━━━━━━━━━━━━━━━━━━━━━━━━━━━━┳━━━━━━━━━━━━━━━━━━━━━━━━┳━━━━━━━━━━━━━━━┓\n",
              "┃<span style=\"font-weight: bold\"> Layer (type)                    </span>┃<span style=\"font-weight: bold\"> Output Shape           </span>┃<span style=\"font-weight: bold\">       Param # </span>┃\n",
              "┡━━━━━━━━━━━━━━━━━━━━━━━━━━━━━━━━━╇━━━━━━━━━━━━━━━━━━━━━━━━╇━━━━━━━━━━━━━━━┩\n",
              "│ mobilenetv2_1.00_224            │ (<span style=\"color: #00d7ff; text-decoration-color: #00d7ff\">None</span>, <span style=\"color: #00af00; text-decoration-color: #00af00\">7</span>, <span style=\"color: #00af00; text-decoration-color: #00af00\">7</span>, <span style=\"color: #00af00; text-decoration-color: #00af00\">1280</span>)     │     <span style=\"color: #00af00; text-decoration-color: #00af00\">2,257,984</span> │\n",
              "│ (<span style=\"color: #0087ff; text-decoration-color: #0087ff\">Functional</span>)                    │                        │               │\n",
              "├─────────────────────────────────┼────────────────────────┼───────────────┤\n",
              "│ conv2d (<span style=\"color: #0087ff; text-decoration-color: #0087ff\">Conv2D</span>)                 │ (<span style=\"color: #00d7ff; text-decoration-color: #00d7ff\">None</span>, <span style=\"color: #00af00; text-decoration-color: #00af00\">7</span>, <span style=\"color: #00af00; text-decoration-color: #00af00\">7</span>, <span style=\"color: #00af00; text-decoration-color: #00af00\">128</span>)      │     <span style=\"color: #00af00; text-decoration-color: #00af00\">1,474,688</span> │\n",
              "├─────────────────────────────────┼────────────────────────┼───────────────┤\n",
              "│ batch_normalization             │ (<span style=\"color: #00d7ff; text-decoration-color: #00d7ff\">None</span>, <span style=\"color: #00af00; text-decoration-color: #00af00\">7</span>, <span style=\"color: #00af00; text-decoration-color: #00af00\">7</span>, <span style=\"color: #00af00; text-decoration-color: #00af00\">128</span>)      │           <span style=\"color: #00af00; text-decoration-color: #00af00\">512</span> │\n",
              "│ (<span style=\"color: #0087ff; text-decoration-color: #0087ff\">BatchNormalization</span>)            │                        │               │\n",
              "├─────────────────────────────────┼────────────────────────┼───────────────┤\n",
              "│ max_pooling2d (<span style=\"color: #0087ff; text-decoration-color: #0087ff\">MaxPooling2D</span>)    │ (<span style=\"color: #00d7ff; text-decoration-color: #00d7ff\">None</span>, <span style=\"color: #00af00; text-decoration-color: #00af00\">3</span>, <span style=\"color: #00af00; text-decoration-color: #00af00\">3</span>, <span style=\"color: #00af00; text-decoration-color: #00af00\">128</span>)      │             <span style=\"color: #00af00; text-decoration-color: #00af00\">0</span> │\n",
              "├─────────────────────────────────┼────────────────────────┼───────────────┤\n",
              "│ dropout (<span style=\"color: #0087ff; text-decoration-color: #0087ff\">Dropout</span>)               │ (<span style=\"color: #00d7ff; text-decoration-color: #00d7ff\">None</span>, <span style=\"color: #00af00; text-decoration-color: #00af00\">3</span>, <span style=\"color: #00af00; text-decoration-color: #00af00\">3</span>, <span style=\"color: #00af00; text-decoration-color: #00af00\">128</span>)      │             <span style=\"color: #00af00; text-decoration-color: #00af00\">0</span> │\n",
              "├─────────────────────────────────┼────────────────────────┼───────────────┤\n",
              "│ global_average_pooling2d        │ (<span style=\"color: #00d7ff; text-decoration-color: #00d7ff\">None</span>, <span style=\"color: #00af00; text-decoration-color: #00af00\">128</span>)            │             <span style=\"color: #00af00; text-decoration-color: #00af00\">0</span> │\n",
              "│ (<span style=\"color: #0087ff; text-decoration-color: #0087ff\">GlobalAveragePooling2D</span>)        │                        │               │\n",
              "├─────────────────────────────────┼────────────────────────┼───────────────┤\n",
              "│ dense (<span style=\"color: #0087ff; text-decoration-color: #0087ff\">Dense</span>)                   │ (<span style=\"color: #00d7ff; text-decoration-color: #00d7ff\">None</span>, <span style=\"color: #00af00; text-decoration-color: #00af00\">256</span>)            │        <span style=\"color: #00af00; text-decoration-color: #00af00\">33,024</span> │\n",
              "├─────────────────────────────────┼────────────────────────┼───────────────┤\n",
              "│ dropout_1 (<span style=\"color: #0087ff; text-decoration-color: #0087ff\">Dropout</span>)             │ (<span style=\"color: #00d7ff; text-decoration-color: #00d7ff\">None</span>, <span style=\"color: #00af00; text-decoration-color: #00af00\">256</span>)            │             <span style=\"color: #00af00; text-decoration-color: #00af00\">0</span> │\n",
              "├─────────────────────────────────┼────────────────────────┼───────────────┤\n",
              "│ dense_1 (<span style=\"color: #0087ff; text-decoration-color: #0087ff\">Dense</span>)                 │ (<span style=\"color: #00d7ff; text-decoration-color: #00d7ff\">None</span>, <span style=\"color: #00af00; text-decoration-color: #00af00\">128</span>)            │        <span style=\"color: #00af00; text-decoration-color: #00af00\">32,896</span> │\n",
              "├─────────────────────────────────┼────────────────────────┼───────────────┤\n",
              "│ dropout_2 (<span style=\"color: #0087ff; text-decoration-color: #0087ff\">Dropout</span>)             │ (<span style=\"color: #00d7ff; text-decoration-color: #00d7ff\">None</span>, <span style=\"color: #00af00; text-decoration-color: #00af00\">128</span>)            │             <span style=\"color: #00af00; text-decoration-color: #00af00\">0</span> │\n",
              "├─────────────────────────────────┼────────────────────────┼───────────────┤\n",
              "│ dense_2 (<span style=\"color: #0087ff; text-decoration-color: #0087ff\">Dense</span>)                 │ (<span style=\"color: #00d7ff; text-decoration-color: #00d7ff\">None</span>, <span style=\"color: #00af00; text-decoration-color: #00af00\">12</span>)             │         <span style=\"color: #00af00; text-decoration-color: #00af00\">1,548</span> │\n",
              "└─────────────────────────────────┴────────────────────────┴───────────────┘\n",
              "</pre>\n"
            ]
          },
          "metadata": {}
        },
        {
          "output_type": "display_data",
          "data": {
            "text/plain": [
              "\u001b[1m Total params: \u001b[0m\u001b[38;5;34m5,343,066\u001b[0m (20.38 MB)\n"
            ],
            "text/html": [
              "<pre style=\"white-space:pre;overflow-x:auto;line-height:normal;font-family:Menlo,'DejaVu Sans Mono',consolas,'Courier New',monospace\"><span style=\"font-weight: bold\"> Total params: </span><span style=\"color: #00af00; text-decoration-color: #00af00\">5,343,066</span> (20.38 MB)\n",
              "</pre>\n"
            ]
          },
          "metadata": {}
        },
        {
          "output_type": "display_data",
          "data": {
            "text/plain": [
              "\u001b[1m Trainable params: \u001b[0m\u001b[38;5;34m1,542,412\u001b[0m (5.88 MB)\n"
            ],
            "text/html": [
              "<pre style=\"white-space:pre;overflow-x:auto;line-height:normal;font-family:Menlo,'DejaVu Sans Mono',consolas,'Courier New',monospace\"><span style=\"font-weight: bold\"> Trainable params: </span><span style=\"color: #00af00; text-decoration-color: #00af00\">1,542,412</span> (5.88 MB)\n",
              "</pre>\n"
            ]
          },
          "metadata": {}
        },
        {
          "output_type": "display_data",
          "data": {
            "text/plain": [
              "\u001b[1m Non-trainable params: \u001b[0m\u001b[38;5;34m2,258,240\u001b[0m (8.61 MB)\n"
            ],
            "text/html": [
              "<pre style=\"white-space:pre;overflow-x:auto;line-height:normal;font-family:Menlo,'DejaVu Sans Mono',consolas,'Courier New',monospace\"><span style=\"font-weight: bold\"> Non-trainable params: </span><span style=\"color: #00af00; text-decoration-color: #00af00\">2,258,240</span> (8.61 MB)\n",
              "</pre>\n"
            ]
          },
          "metadata": {}
        },
        {
          "output_type": "display_data",
          "data": {
            "text/plain": [
              "\u001b[1m Optimizer params: \u001b[0m\u001b[38;5;34m1,542,414\u001b[0m (5.88 MB)\n"
            ],
            "text/html": [
              "<pre style=\"white-space:pre;overflow-x:auto;line-height:normal;font-family:Menlo,'DejaVu Sans Mono',consolas,'Courier New',monospace\"><span style=\"font-weight: bold\"> Optimizer params: </span><span style=\"color: #00af00; text-decoration-color: #00af00\">1,542,414</span> (5.88 MB)\n",
              "</pre>\n"
            ]
          },
          "metadata": {}
        }
      ]
    },
    {
      "cell_type": "code",
      "source": [
        "model.export(\"saved_model_garbage\")"
      ],
      "metadata": {
        "colab": {
          "base_uri": "https://localhost:8080/"
        },
        "id": "gvLsT6HoeN5d",
        "outputId": "c436e473-f2d1-4f41-b6a7-7856e6c6b096"
      },
      "execution_count": 24,
      "outputs": [
        {
          "output_type": "stream",
          "name": "stdout",
          "text": [
            "Saved artifact at 'saved_model_garbage'. The following endpoints are available:\n",
            "\n",
            "* Endpoint 'serve'\n",
            "  args_0 (POSITIONAL_ONLY): TensorSpec(shape=(None, 224, 224, 3), dtype=tf.float32, name='input_layer_1')\n",
            "Output Type:\n",
            "  TensorSpec(shape=(None, 12), dtype=tf.float32, name=None)\n",
            "Captures:\n",
            "  140372926018384: TensorSpec(shape=(), dtype=tf.resource, name=None)\n",
            "  140372926018000: TensorSpec(shape=(), dtype=tf.resource, name=None)\n",
            "  140372926018960: TensorSpec(shape=(), dtype=tf.resource, name=None)\n",
            "  140372926016080: TensorSpec(shape=(), dtype=tf.resource, name=None)\n",
            "  140372926017616: TensorSpec(shape=(), dtype=tf.resource, name=None)\n",
            "  140372889351568: TensorSpec(shape=(), dtype=tf.resource, name=None)\n",
            "  140372889346768: TensorSpec(shape=(), dtype=tf.resource, name=None)\n",
            "  140372889350416: TensorSpec(shape=(), dtype=tf.resource, name=None)\n",
            "  140372889351184: TensorSpec(shape=(), dtype=tf.resource, name=None)\n",
            "  140372889350608: TensorSpec(shape=(), dtype=tf.resource, name=None)\n",
            "  140372889349456: TensorSpec(shape=(), dtype=tf.resource, name=None)\n",
            "  140372889350800: TensorSpec(shape=(), dtype=tf.resource, name=None)\n",
            "  140372889352336: TensorSpec(shape=(), dtype=tf.resource, name=None)\n",
            "  140372889351952: TensorSpec(shape=(), dtype=tf.resource, name=None)\n",
            "  140372889343120: TensorSpec(shape=(), dtype=tf.resource, name=None)\n",
            "  140372913864976: TensorSpec(shape=(), dtype=tf.resource, name=None)\n",
            "  140372913866320: TensorSpec(shape=(), dtype=tf.resource, name=None)\n",
            "  140372913866704: TensorSpec(shape=(), dtype=tf.resource, name=None)\n",
            "  140372913866512: TensorSpec(shape=(), dtype=tf.resource, name=None)\n",
            "  140372913865168: TensorSpec(shape=(), dtype=tf.resource, name=None)\n",
            "  140372913867856: TensorSpec(shape=(), dtype=tf.resource, name=None)\n",
            "  140372913868240: TensorSpec(shape=(), dtype=tf.resource, name=None)\n",
            "  140372913868624: TensorSpec(shape=(), dtype=tf.resource, name=None)\n",
            "  140372913868432: TensorSpec(shape=(), dtype=tf.resource, name=None)\n",
            "  140372913865744: TensorSpec(shape=(), dtype=tf.resource, name=None)\n",
            "  140372913869776: TensorSpec(shape=(), dtype=tf.resource, name=None)\n",
            "  140372913870160: TensorSpec(shape=(), dtype=tf.resource, name=None)\n",
            "  140372913870544: TensorSpec(shape=(), dtype=tf.resource, name=None)\n",
            "  140372913870352: TensorSpec(shape=(), dtype=tf.resource, name=None)\n",
            "  140372913865936: TensorSpec(shape=(), dtype=tf.resource, name=None)\n",
            "  140372913871696: TensorSpec(shape=(), dtype=tf.resource, name=None)\n",
            "  140372913872080: TensorSpec(shape=(), dtype=tf.resource, name=None)\n",
            "  140372913872464: TensorSpec(shape=(), dtype=tf.resource, name=None)\n",
            "  140372913872272: TensorSpec(shape=(), dtype=tf.resource, name=None)\n",
            "  140372913867472: TensorSpec(shape=(), dtype=tf.resource, name=None)\n",
            "  140372913873616: TensorSpec(shape=(), dtype=tf.resource, name=None)\n",
            "  140372913874000: TensorSpec(shape=(), dtype=tf.resource, name=None)\n",
            "  140372913874384: TensorSpec(shape=(), dtype=tf.resource, name=None)\n",
            "  140372913874192: TensorSpec(shape=(), dtype=tf.resource, name=None)\n",
            "  140372913869392: TensorSpec(shape=(), dtype=tf.resource, name=None)\n",
            "  140372913875536: TensorSpec(shape=(), dtype=tf.resource, name=None)\n",
            "  140372913875920: TensorSpec(shape=(), dtype=tf.resource, name=None)\n",
            "  140372913876304: TensorSpec(shape=(), dtype=tf.resource, name=None)\n",
            "  140372913876112: TensorSpec(shape=(), dtype=tf.resource, name=None)\n",
            "  140372913871312: TensorSpec(shape=(), dtype=tf.resource, name=None)\n",
            "  140372913877456: TensorSpec(shape=(), dtype=tf.resource, name=None)\n",
            "  140372913877840: TensorSpec(shape=(), dtype=tf.resource, name=None)\n",
            "  140372913878224: TensorSpec(shape=(), dtype=tf.resource, name=None)\n",
            "  140372913878032: TensorSpec(shape=(), dtype=tf.resource, name=None)\n",
            "  140372913873232: TensorSpec(shape=(), dtype=tf.resource, name=None)\n",
            "  140372913879376: TensorSpec(shape=(), dtype=tf.resource, name=None)\n",
            "  140372913879760: TensorSpec(shape=(), dtype=tf.resource, name=None)\n",
            "  140372913880144: TensorSpec(shape=(), dtype=tf.resource, name=None)\n",
            "  140372913879952: TensorSpec(shape=(), dtype=tf.resource, name=None)\n",
            "  140372913875152: TensorSpec(shape=(), dtype=tf.resource, name=None)\n",
            "  140372913878608: TensorSpec(shape=(), dtype=tf.resource, name=None)\n",
            "  140372912865552: TensorSpec(shape=(), dtype=tf.resource, name=None)\n",
            "  140372912866320: TensorSpec(shape=(), dtype=tf.resource, name=None)\n",
            "  140372913880912: TensorSpec(shape=(), dtype=tf.resource, name=None)\n",
            "  140372913877072: TensorSpec(shape=(), dtype=tf.resource, name=None)\n",
            "  140372912867472: TensorSpec(shape=(), dtype=tf.resource, name=None)\n",
            "  140372912867856: TensorSpec(shape=(), dtype=tf.resource, name=None)\n",
            "  140372912868240: TensorSpec(shape=(), dtype=tf.resource, name=None)\n",
            "  140372912868048: TensorSpec(shape=(), dtype=tf.resource, name=None)\n",
            "  140372912866128: TensorSpec(shape=(), dtype=tf.resource, name=None)\n",
            "  140372912869392: TensorSpec(shape=(), dtype=tf.resource, name=None)\n",
            "  140372912869776: TensorSpec(shape=(), dtype=tf.resource, name=None)\n",
            "  140372912870160: TensorSpec(shape=(), dtype=tf.resource, name=None)\n",
            "  140372912869968: TensorSpec(shape=(), dtype=tf.resource, name=None)\n",
            "  140372912865360: TensorSpec(shape=(), dtype=tf.resource, name=None)\n",
            "  140372912871312: TensorSpec(shape=(), dtype=tf.resource, name=None)\n",
            "  140372912871696: TensorSpec(shape=(), dtype=tf.resource, name=None)\n",
            "  140372912872080: TensorSpec(shape=(), dtype=tf.resource, name=None)\n",
            "  140372912871888: TensorSpec(shape=(), dtype=tf.resource, name=None)\n",
            "  140372912867088: TensorSpec(shape=(), dtype=tf.resource, name=None)\n",
            "  140372912873232: TensorSpec(shape=(), dtype=tf.resource, name=None)\n",
            "  140372912873616: TensorSpec(shape=(), dtype=tf.resource, name=None)\n",
            "  140372912874000: TensorSpec(shape=(), dtype=tf.resource, name=None)\n",
            "  140372912873808: TensorSpec(shape=(), dtype=tf.resource, name=None)\n",
            "  140372912869008: TensorSpec(shape=(), dtype=tf.resource, name=None)\n",
            "  140372912875152: TensorSpec(shape=(), dtype=tf.resource, name=None)\n",
            "  140372912875536: TensorSpec(shape=(), dtype=tf.resource, name=None)\n",
            "  140372912875920: TensorSpec(shape=(), dtype=tf.resource, name=None)\n",
            "  140372912875728: TensorSpec(shape=(), dtype=tf.resource, name=None)\n",
            "  140372912870928: TensorSpec(shape=(), dtype=tf.resource, name=None)\n",
            "  140372912877072: TensorSpec(shape=(), dtype=tf.resource, name=None)\n",
            "  140372912880144: TensorSpec(shape=(), dtype=tf.resource, name=None)\n",
            "  140372912879760: TensorSpec(shape=(), dtype=tf.resource, name=None)\n",
            "  140372912877648: TensorSpec(shape=(), dtype=tf.resource, name=None)\n",
            "  140372912878608: TensorSpec(shape=(), dtype=tf.resource, name=None)\n",
            "  140372912878992: TensorSpec(shape=(), dtype=tf.resource, name=None)\n",
            "  140372912879952: TensorSpec(shape=(), dtype=tf.resource, name=None)\n",
            "  140372912878416: TensorSpec(shape=(), dtype=tf.resource, name=None)\n",
            "  140372912881488: TensorSpec(shape=(), dtype=tf.resource, name=None)\n",
            "  140372912881104: TensorSpec(shape=(), dtype=tf.resource, name=None)\n",
            "  140372912881296: TensorSpec(shape=(), dtype=tf.resource, name=None)\n",
            "  140372912872848: TensorSpec(shape=(), dtype=tf.resource, name=None)\n",
            "  140372912880336: TensorSpec(shape=(), dtype=tf.resource, name=None)\n",
            "  140372912880912: TensorSpec(shape=(), dtype=tf.resource, name=None)\n",
            "  140372912876304: TensorSpec(shape=(), dtype=tf.resource, name=None)\n",
            "  140372912406992: TensorSpec(shape=(), dtype=tf.resource, name=None)\n",
            "  140372912408336: TensorSpec(shape=(), dtype=tf.resource, name=None)\n",
            "  140372912408720: TensorSpec(shape=(), dtype=tf.resource, name=None)\n",
            "  140372912408528: TensorSpec(shape=(), dtype=tf.resource, name=None)\n",
            "  140372912407184: TensorSpec(shape=(), dtype=tf.resource, name=None)\n",
            "  140372912409872: TensorSpec(shape=(), dtype=tf.resource, name=None)\n",
            "  140372912410256: TensorSpec(shape=(), dtype=tf.resource, name=None)\n",
            "  140372912410640: TensorSpec(shape=(), dtype=tf.resource, name=None)\n",
            "  140372912410448: TensorSpec(shape=(), dtype=tf.resource, name=None)\n",
            "  140372912407760: TensorSpec(shape=(), dtype=tf.resource, name=None)\n",
            "  140372912411792: TensorSpec(shape=(), dtype=tf.resource, name=None)\n",
            "  140372912412176: TensorSpec(shape=(), dtype=tf.resource, name=None)\n",
            "  140372912412560: TensorSpec(shape=(), dtype=tf.resource, name=None)\n",
            "  140372912412368: TensorSpec(shape=(), dtype=tf.resource, name=None)\n",
            "  140372912407952: TensorSpec(shape=(), dtype=tf.resource, name=None)\n",
            "  140372912413712: TensorSpec(shape=(), dtype=tf.resource, name=None)\n",
            "  140372912414096: TensorSpec(shape=(), dtype=tf.resource, name=None)\n",
            "  140372912414480: TensorSpec(shape=(), dtype=tf.resource, name=None)\n",
            "  140372912414288: TensorSpec(shape=(), dtype=tf.resource, name=None)\n",
            "  140372912409488: TensorSpec(shape=(), dtype=tf.resource, name=None)\n",
            "  140372912415632: TensorSpec(shape=(), dtype=tf.resource, name=None)\n",
            "  140372912416016: TensorSpec(shape=(), dtype=tf.resource, name=None)\n",
            "  140372912416400: TensorSpec(shape=(), dtype=tf.resource, name=None)\n",
            "  140372912416208: TensorSpec(shape=(), dtype=tf.resource, name=None)\n",
            "  140372912411408: TensorSpec(shape=(), dtype=tf.resource, name=None)\n",
            "  140372912417552: TensorSpec(shape=(), dtype=tf.resource, name=None)\n",
            "  140372912417936: TensorSpec(shape=(), dtype=tf.resource, name=None)\n",
            "  140372912418320: TensorSpec(shape=(), dtype=tf.resource, name=None)\n",
            "  140372912418128: TensorSpec(shape=(), dtype=tf.resource, name=None)\n",
            "  140372912413328: TensorSpec(shape=(), dtype=tf.resource, name=None)\n",
            "  140372912419472: TensorSpec(shape=(), dtype=tf.resource, name=None)\n",
            "  140372912419856: TensorSpec(shape=(), dtype=tf.resource, name=None)\n",
            "  140372912420240: TensorSpec(shape=(), dtype=tf.resource, name=None)\n",
            "  140372912420048: TensorSpec(shape=(), dtype=tf.resource, name=None)\n",
            "  140372912415248: TensorSpec(shape=(), dtype=tf.resource, name=None)\n",
            "  140372912421392: TensorSpec(shape=(), dtype=tf.resource, name=None)\n",
            "  140372912421776: TensorSpec(shape=(), dtype=tf.resource, name=None)\n",
            "  140372912422544: TensorSpec(shape=(), dtype=tf.resource, name=None)\n",
            "  140372912421968: TensorSpec(shape=(), dtype=tf.resource, name=None)\n",
            "  140372912417168: TensorSpec(shape=(), dtype=tf.resource, name=None)\n",
            "  140372912420624: TensorSpec(shape=(), dtype=tf.resource, name=None)\n",
            "  140372910932048: TensorSpec(shape=(), dtype=tf.resource, name=None)\n",
            "  140372910933200: TensorSpec(shape=(), dtype=tf.resource, name=None)\n",
            "  140372912421008: TensorSpec(shape=(), dtype=tf.resource, name=None)\n",
            "  140372910933008: TensorSpec(shape=(), dtype=tf.resource, name=None)\n",
            "  140372910934352: TensorSpec(shape=(), dtype=tf.resource, name=None)\n",
            "  140372910934736: TensorSpec(shape=(), dtype=tf.resource, name=None)\n",
            "  140372910935120: TensorSpec(shape=(), dtype=tf.resource, name=None)\n",
            "  140372910934928: TensorSpec(shape=(), dtype=tf.resource, name=None)\n",
            "  140372910932816: TensorSpec(shape=(), dtype=tf.resource, name=None)\n",
            "  140372910936272: TensorSpec(shape=(), dtype=tf.resource, name=None)\n",
            "  140372910936656: TensorSpec(shape=(), dtype=tf.resource, name=None)\n",
            "  140372910937040: TensorSpec(shape=(), dtype=tf.resource, name=None)\n",
            "  140372910936848: TensorSpec(shape=(), dtype=tf.resource, name=None)\n",
            "  140372910932240: TensorSpec(shape=(), dtype=tf.resource, name=None)\n",
            "  140372910938192: TensorSpec(shape=(), dtype=tf.resource, name=None)\n",
            "  140372910938576: TensorSpec(shape=(), dtype=tf.resource, name=None)\n",
            "  140372910938960: TensorSpec(shape=(), dtype=tf.resource, name=None)\n",
            "  140372910938768: TensorSpec(shape=(), dtype=tf.resource, name=None)\n",
            "  140372910933968: TensorSpec(shape=(), dtype=tf.resource, name=None)\n",
            "  140372910940112: TensorSpec(shape=(), dtype=tf.resource, name=None)\n",
            "  140372910940496: TensorSpec(shape=(), dtype=tf.resource, name=None)\n",
            "  140372910940880: TensorSpec(shape=(), dtype=tf.resource, name=None)\n",
            "  140372910940688: TensorSpec(shape=(), dtype=tf.resource, name=None)\n",
            "  140372910935888: TensorSpec(shape=(), dtype=tf.resource, name=None)\n",
            "  140372910942032: TensorSpec(shape=(), dtype=tf.resource, name=None)\n",
            "  140372910942416: TensorSpec(shape=(), dtype=tf.resource, name=None)\n",
            "  140372910942800: TensorSpec(shape=(), dtype=tf.resource, name=None)\n",
            "  140372910942608: TensorSpec(shape=(), dtype=tf.resource, name=None)\n",
            "  140372910937808: TensorSpec(shape=(), dtype=tf.resource, name=None)\n",
            "  140372910943952: TensorSpec(shape=(), dtype=tf.resource, name=None)\n",
            "  140372910944336: TensorSpec(shape=(), dtype=tf.resource, name=None)\n",
            "  140372910944720: TensorSpec(shape=(), dtype=tf.resource, name=None)\n",
            "  140372910944528: TensorSpec(shape=(), dtype=tf.resource, name=None)\n",
            "  140372910939728: TensorSpec(shape=(), dtype=tf.resource, name=None)\n",
            "  140372910945872: TensorSpec(shape=(), dtype=tf.resource, name=None)\n",
            "  140372910946256: TensorSpec(shape=(), dtype=tf.resource, name=None)\n",
            "  140372910946640: TensorSpec(shape=(), dtype=tf.resource, name=None)\n",
            "  140372910946448: TensorSpec(shape=(), dtype=tf.resource, name=None)\n",
            "  140372910941648: TensorSpec(shape=(), dtype=tf.resource, name=None)\n",
            "  140372910947792: TensorSpec(shape=(), dtype=tf.resource, name=None)\n",
            "  140372910932432: TensorSpec(shape=(), dtype=tf.resource, name=None)\n",
            "  140372910948176: TensorSpec(shape=(), dtype=tf.resource, name=None)\n",
            "  140372910947984: TensorSpec(shape=(), dtype=tf.resource, name=None)\n",
            "  140372910945488: TensorSpec(shape=(), dtype=tf.resource, name=None)\n",
            "  140372911260112: TensorSpec(shape=(), dtype=tf.resource, name=None)\n",
            "  140372911261456: TensorSpec(shape=(), dtype=tf.resource, name=None)\n",
            "  140372911261840: TensorSpec(shape=(), dtype=tf.resource, name=None)\n",
            "  140372911261648: TensorSpec(shape=(), dtype=tf.resource, name=None)\n",
            "  140372911260304: TensorSpec(shape=(), dtype=tf.resource, name=None)\n",
            "  140372911262992: TensorSpec(shape=(), dtype=tf.resource, name=None)\n",
            "  140372911263376: TensorSpec(shape=(), dtype=tf.resource, name=None)\n",
            "  140372911263760: TensorSpec(shape=(), dtype=tf.resource, name=None)\n",
            "  140372911263568: TensorSpec(shape=(), dtype=tf.resource, name=None)\n",
            "  140372911260880: TensorSpec(shape=(), dtype=tf.resource, name=None)\n",
            "  140372911264912: TensorSpec(shape=(), dtype=tf.resource, name=None)\n",
            "  140372911265296: TensorSpec(shape=(), dtype=tf.resource, name=None)\n",
            "  140372911265680: TensorSpec(shape=(), dtype=tf.resource, name=None)\n",
            "  140372911265488: TensorSpec(shape=(), dtype=tf.resource, name=None)\n",
            "  140372911261072: TensorSpec(shape=(), dtype=tf.resource, name=None)\n",
            "  140372911266832: TensorSpec(shape=(), dtype=tf.resource, name=None)\n",
            "  140372911267216: TensorSpec(shape=(), dtype=tf.resource, name=None)\n",
            "  140372911267600: TensorSpec(shape=(), dtype=tf.resource, name=None)\n",
            "  140372911267408: TensorSpec(shape=(), dtype=tf.resource, name=None)\n",
            "  140372911262608: TensorSpec(shape=(), dtype=tf.resource, name=None)\n",
            "  140372911268752: TensorSpec(shape=(), dtype=tf.resource, name=None)\n",
            "  140372911269136: TensorSpec(shape=(), dtype=tf.resource, name=None)\n",
            "  140372911269520: TensorSpec(shape=(), dtype=tf.resource, name=None)\n",
            "  140372911269328: TensorSpec(shape=(), dtype=tf.resource, name=None)\n",
            "  140372911264528: TensorSpec(shape=(), dtype=tf.resource, name=None)\n",
            "  140372911270672: TensorSpec(shape=(), dtype=tf.resource, name=None)\n",
            "  140372911271056: TensorSpec(shape=(), dtype=tf.resource, name=None)\n",
            "  140372911271440: TensorSpec(shape=(), dtype=tf.resource, name=None)\n",
            "  140372911271248: TensorSpec(shape=(), dtype=tf.resource, name=None)\n",
            "  140372911266448: TensorSpec(shape=(), dtype=tf.resource, name=None)\n",
            "  140372911272592: TensorSpec(shape=(), dtype=tf.resource, name=None)\n",
            "  140372911272976: TensorSpec(shape=(), dtype=tf.resource, name=None)\n",
            "  140372911273360: TensorSpec(shape=(), dtype=tf.resource, name=None)\n",
            "  140372911273168: TensorSpec(shape=(), dtype=tf.resource, name=None)\n",
            "  140372911268368: TensorSpec(shape=(), dtype=tf.resource, name=None)\n",
            "  140372911274512: TensorSpec(shape=(), dtype=tf.resource, name=None)\n",
            "  140372911274896: TensorSpec(shape=(), dtype=tf.resource, name=None)\n",
            "  140372911275664: TensorSpec(shape=(), dtype=tf.resource, name=None)\n",
            "  140372911275088: TensorSpec(shape=(), dtype=tf.resource, name=None)\n",
            "  140372911270288: TensorSpec(shape=(), dtype=tf.resource, name=None)\n",
            "  140372911273744: TensorSpec(shape=(), dtype=tf.resource, name=None)\n",
            "  140372911719440: TensorSpec(shape=(), dtype=tf.resource, name=None)\n",
            "  140372911718480: TensorSpec(shape=(), dtype=tf.resource, name=None)\n",
            "  140372911274128: TensorSpec(shape=(), dtype=tf.resource, name=None)\n",
            "  140372911718672: TensorSpec(shape=(), dtype=tf.resource, name=None)\n",
            "  140372911720784: TensorSpec(shape=(), dtype=tf.resource, name=None)\n",
            "  140372911721168: TensorSpec(shape=(), dtype=tf.resource, name=None)\n",
            "  140372911721552: TensorSpec(shape=(), dtype=tf.resource, name=None)\n",
            "  140372911721360: TensorSpec(shape=(), dtype=tf.resource, name=None)\n",
            "  140372911718864: TensorSpec(shape=(), dtype=tf.resource, name=None)\n",
            "  140372911722704: TensorSpec(shape=(), dtype=tf.resource, name=None)\n",
            "  140372911723088: TensorSpec(shape=(), dtype=tf.resource, name=None)\n",
            "  140372911723472: TensorSpec(shape=(), dtype=tf.resource, name=None)\n",
            "  140372911723280: TensorSpec(shape=(), dtype=tf.resource, name=None)\n",
            "  140372911719248: TensorSpec(shape=(), dtype=tf.resource, name=None)\n",
            "  140372911724624: TensorSpec(shape=(), dtype=tf.resource, name=None)\n",
            "  140372911725008: TensorSpec(shape=(), dtype=tf.resource, name=None)\n",
            "  140372911725392: TensorSpec(shape=(), dtype=tf.resource, name=None)\n",
            "  140372911725200: TensorSpec(shape=(), dtype=tf.resource, name=None)\n",
            "  140372911720400: TensorSpec(shape=(), dtype=tf.resource, name=None)\n",
            "  140372911726544: TensorSpec(shape=(), dtype=tf.resource, name=None)\n",
            "  140372911726928: TensorSpec(shape=(), dtype=tf.resource, name=None)\n",
            "  140372911727312: TensorSpec(shape=(), dtype=tf.resource, name=None)\n",
            "  140372911727120: TensorSpec(shape=(), dtype=tf.resource, name=None)\n",
            "  140372911722320: TensorSpec(shape=(), dtype=tf.resource, name=None)\n",
            "  140372911728464: TensorSpec(shape=(), dtype=tf.resource, name=None)\n",
            "  140372911728848: TensorSpec(shape=(), dtype=tf.resource, name=None)\n",
            "  140372911729232: TensorSpec(shape=(), dtype=tf.resource, name=None)\n",
            "  140372911729040: TensorSpec(shape=(), dtype=tf.resource, name=None)\n",
            "  140372911724240: TensorSpec(shape=(), dtype=tf.resource, name=None)\n",
            "  140372911730384: TensorSpec(shape=(), dtype=tf.resource, name=None)\n",
            "  140372911730768: TensorSpec(shape=(), dtype=tf.resource, name=None)\n",
            "  140372911731152: TensorSpec(shape=(), dtype=tf.resource, name=None)\n",
            "  140372911730960: TensorSpec(shape=(), dtype=tf.resource, name=None)\n",
            "  140372911726160: TensorSpec(shape=(), dtype=tf.resource, name=None)\n",
            "  140372911732304: TensorSpec(shape=(), dtype=tf.resource, name=None)\n",
            "  140372911732880: TensorSpec(shape=(), dtype=tf.resource, name=None)\n",
            "  140372911733072: TensorSpec(shape=(), dtype=tf.resource, name=None)\n",
            "  140372911731920: TensorSpec(shape=(), dtype=tf.resource, name=None)\n",
            "  140372911728080: TensorSpec(shape=(), dtype=tf.resource, name=None)\n",
            "  140372911732688: TensorSpec(shape=(), dtype=tf.resource, name=None)\n",
            "  140372911730000: TensorSpec(shape=(), dtype=tf.resource, name=None)\n",
            "  140372911734224: TensorSpec(shape=(), dtype=tf.resource, name=None)\n",
            "  140372910326416: TensorSpec(shape=(), dtype=tf.resource, name=None)\n",
            "  140372910327952: TensorSpec(shape=(), dtype=tf.resource, name=None)\n",
            "  140372910327184: TensorSpec(shape=(), dtype=tf.resource, name=None)\n",
            "  140372910329104: TensorSpec(shape=(), dtype=tf.resource, name=None)\n"
          ]
        }
      ]
    },
    {
      "cell_type": "markdown",
      "source": [
        "TF Lite"
      ],
      "metadata": {
        "id": "p8RusVoUeeA5"
      }
    },
    {
      "cell_type": "code",
      "execution_count": 25,
      "metadata": {
        "id": "hZvGBpYoYFSl",
        "colab": {
          "base_uri": "https://localhost:8080/"
        },
        "outputId": "c106e54c-57d1-484c-a3e3-b5e50480ce92"
      },
      "outputs": [
        {
          "output_type": "stream",
          "name": "stdout",
          "text": [
            "Saved artifact at '/tmp/tmp3cg4uak0'. The following endpoints are available:\n",
            "\n",
            "* Endpoint 'serve'\n",
            "  args_0 (POSITIONAL_ONLY): TensorSpec(shape=(None, 224, 224, 3), dtype=tf.float32, name='input_layer_1')\n",
            "Output Type:\n",
            "  TensorSpec(shape=(None, 12), dtype=tf.float32, name=None)\n",
            "Captures:\n",
            "  140372926018384: TensorSpec(shape=(), dtype=tf.resource, name=None)\n",
            "  140372926018000: TensorSpec(shape=(), dtype=tf.resource, name=None)\n",
            "  140372926018960: TensorSpec(shape=(), dtype=tf.resource, name=None)\n",
            "  140372926016080: TensorSpec(shape=(), dtype=tf.resource, name=None)\n",
            "  140372926017616: TensorSpec(shape=(), dtype=tf.resource, name=None)\n",
            "  140372889351568: TensorSpec(shape=(), dtype=tf.resource, name=None)\n",
            "  140372889346768: TensorSpec(shape=(), dtype=tf.resource, name=None)\n",
            "  140372889350416: TensorSpec(shape=(), dtype=tf.resource, name=None)\n",
            "  140372889351184: TensorSpec(shape=(), dtype=tf.resource, name=None)\n",
            "  140372889350608: TensorSpec(shape=(), dtype=tf.resource, name=None)\n",
            "  140372889349456: TensorSpec(shape=(), dtype=tf.resource, name=None)\n",
            "  140372889350800: TensorSpec(shape=(), dtype=tf.resource, name=None)\n",
            "  140372889352336: TensorSpec(shape=(), dtype=tf.resource, name=None)\n",
            "  140372889351952: TensorSpec(shape=(), dtype=tf.resource, name=None)\n",
            "  140372889343120: TensorSpec(shape=(), dtype=tf.resource, name=None)\n",
            "  140372913864976: TensorSpec(shape=(), dtype=tf.resource, name=None)\n",
            "  140372913866320: TensorSpec(shape=(), dtype=tf.resource, name=None)\n",
            "  140372913866704: TensorSpec(shape=(), dtype=tf.resource, name=None)\n",
            "  140372913866512: TensorSpec(shape=(), dtype=tf.resource, name=None)\n",
            "  140372913865168: TensorSpec(shape=(), dtype=tf.resource, name=None)\n",
            "  140372913867856: TensorSpec(shape=(), dtype=tf.resource, name=None)\n",
            "  140372913868240: TensorSpec(shape=(), dtype=tf.resource, name=None)\n",
            "  140372913868624: TensorSpec(shape=(), dtype=tf.resource, name=None)\n",
            "  140372913868432: TensorSpec(shape=(), dtype=tf.resource, name=None)\n",
            "  140372913865744: TensorSpec(shape=(), dtype=tf.resource, name=None)\n",
            "  140372913869776: TensorSpec(shape=(), dtype=tf.resource, name=None)\n",
            "  140372913870160: TensorSpec(shape=(), dtype=tf.resource, name=None)\n",
            "  140372913870544: TensorSpec(shape=(), dtype=tf.resource, name=None)\n",
            "  140372913870352: TensorSpec(shape=(), dtype=tf.resource, name=None)\n",
            "  140372913865936: TensorSpec(shape=(), dtype=tf.resource, name=None)\n",
            "  140372913871696: TensorSpec(shape=(), dtype=tf.resource, name=None)\n",
            "  140372913872080: TensorSpec(shape=(), dtype=tf.resource, name=None)\n",
            "  140372913872464: TensorSpec(shape=(), dtype=tf.resource, name=None)\n",
            "  140372913872272: TensorSpec(shape=(), dtype=tf.resource, name=None)\n",
            "  140372913867472: TensorSpec(shape=(), dtype=tf.resource, name=None)\n",
            "  140372913873616: TensorSpec(shape=(), dtype=tf.resource, name=None)\n",
            "  140372913874000: TensorSpec(shape=(), dtype=tf.resource, name=None)\n",
            "  140372913874384: TensorSpec(shape=(), dtype=tf.resource, name=None)\n",
            "  140372913874192: TensorSpec(shape=(), dtype=tf.resource, name=None)\n",
            "  140372913869392: TensorSpec(shape=(), dtype=tf.resource, name=None)\n",
            "  140372913875536: TensorSpec(shape=(), dtype=tf.resource, name=None)\n",
            "  140372913875920: TensorSpec(shape=(), dtype=tf.resource, name=None)\n",
            "  140372913876304: TensorSpec(shape=(), dtype=tf.resource, name=None)\n",
            "  140372913876112: TensorSpec(shape=(), dtype=tf.resource, name=None)\n",
            "  140372913871312: TensorSpec(shape=(), dtype=tf.resource, name=None)\n",
            "  140372913877456: TensorSpec(shape=(), dtype=tf.resource, name=None)\n",
            "  140372913877840: TensorSpec(shape=(), dtype=tf.resource, name=None)\n",
            "  140372913878224: TensorSpec(shape=(), dtype=tf.resource, name=None)\n",
            "  140372913878032: TensorSpec(shape=(), dtype=tf.resource, name=None)\n",
            "  140372913873232: TensorSpec(shape=(), dtype=tf.resource, name=None)\n",
            "  140372913879376: TensorSpec(shape=(), dtype=tf.resource, name=None)\n",
            "  140372913879760: TensorSpec(shape=(), dtype=tf.resource, name=None)\n",
            "  140372913880144: TensorSpec(shape=(), dtype=tf.resource, name=None)\n",
            "  140372913879952: TensorSpec(shape=(), dtype=tf.resource, name=None)\n",
            "  140372913875152: TensorSpec(shape=(), dtype=tf.resource, name=None)\n",
            "  140372913878608: TensorSpec(shape=(), dtype=tf.resource, name=None)\n",
            "  140372912865552: TensorSpec(shape=(), dtype=tf.resource, name=None)\n",
            "  140372912866320: TensorSpec(shape=(), dtype=tf.resource, name=None)\n",
            "  140372913880912: TensorSpec(shape=(), dtype=tf.resource, name=None)\n",
            "  140372913877072: TensorSpec(shape=(), dtype=tf.resource, name=None)\n",
            "  140372912867472: TensorSpec(shape=(), dtype=tf.resource, name=None)\n",
            "  140372912867856: TensorSpec(shape=(), dtype=tf.resource, name=None)\n",
            "  140372912868240: TensorSpec(shape=(), dtype=tf.resource, name=None)\n",
            "  140372912868048: TensorSpec(shape=(), dtype=tf.resource, name=None)\n",
            "  140372912866128: TensorSpec(shape=(), dtype=tf.resource, name=None)\n",
            "  140372912869392: TensorSpec(shape=(), dtype=tf.resource, name=None)\n",
            "  140372912869776: TensorSpec(shape=(), dtype=tf.resource, name=None)\n",
            "  140372912870160: TensorSpec(shape=(), dtype=tf.resource, name=None)\n",
            "  140372912869968: TensorSpec(shape=(), dtype=tf.resource, name=None)\n",
            "  140372912865360: TensorSpec(shape=(), dtype=tf.resource, name=None)\n",
            "  140372912871312: TensorSpec(shape=(), dtype=tf.resource, name=None)\n",
            "  140372912871696: TensorSpec(shape=(), dtype=tf.resource, name=None)\n",
            "  140372912872080: TensorSpec(shape=(), dtype=tf.resource, name=None)\n",
            "  140372912871888: TensorSpec(shape=(), dtype=tf.resource, name=None)\n",
            "  140372912867088: TensorSpec(shape=(), dtype=tf.resource, name=None)\n",
            "  140372912873232: TensorSpec(shape=(), dtype=tf.resource, name=None)\n",
            "  140372912873616: TensorSpec(shape=(), dtype=tf.resource, name=None)\n",
            "  140372912874000: TensorSpec(shape=(), dtype=tf.resource, name=None)\n",
            "  140372912873808: TensorSpec(shape=(), dtype=tf.resource, name=None)\n",
            "  140372912869008: TensorSpec(shape=(), dtype=tf.resource, name=None)\n",
            "  140372912875152: TensorSpec(shape=(), dtype=tf.resource, name=None)\n",
            "  140372912875536: TensorSpec(shape=(), dtype=tf.resource, name=None)\n",
            "  140372912875920: TensorSpec(shape=(), dtype=tf.resource, name=None)\n",
            "  140372912875728: TensorSpec(shape=(), dtype=tf.resource, name=None)\n",
            "  140372912870928: TensorSpec(shape=(), dtype=tf.resource, name=None)\n",
            "  140372912877072: TensorSpec(shape=(), dtype=tf.resource, name=None)\n",
            "  140372912880144: TensorSpec(shape=(), dtype=tf.resource, name=None)\n",
            "  140372912879760: TensorSpec(shape=(), dtype=tf.resource, name=None)\n",
            "  140372912877648: TensorSpec(shape=(), dtype=tf.resource, name=None)\n",
            "  140372912878608: TensorSpec(shape=(), dtype=tf.resource, name=None)\n",
            "  140372912878992: TensorSpec(shape=(), dtype=tf.resource, name=None)\n",
            "  140372912879952: TensorSpec(shape=(), dtype=tf.resource, name=None)\n",
            "  140372912878416: TensorSpec(shape=(), dtype=tf.resource, name=None)\n",
            "  140372912881488: TensorSpec(shape=(), dtype=tf.resource, name=None)\n",
            "  140372912881104: TensorSpec(shape=(), dtype=tf.resource, name=None)\n",
            "  140372912881296: TensorSpec(shape=(), dtype=tf.resource, name=None)\n",
            "  140372912872848: TensorSpec(shape=(), dtype=tf.resource, name=None)\n",
            "  140372912880336: TensorSpec(shape=(), dtype=tf.resource, name=None)\n",
            "  140372912880912: TensorSpec(shape=(), dtype=tf.resource, name=None)\n",
            "  140372912876304: TensorSpec(shape=(), dtype=tf.resource, name=None)\n",
            "  140372912406992: TensorSpec(shape=(), dtype=tf.resource, name=None)\n",
            "  140372912408336: TensorSpec(shape=(), dtype=tf.resource, name=None)\n",
            "  140372912408720: TensorSpec(shape=(), dtype=tf.resource, name=None)\n",
            "  140372912408528: TensorSpec(shape=(), dtype=tf.resource, name=None)\n",
            "  140372912407184: TensorSpec(shape=(), dtype=tf.resource, name=None)\n",
            "  140372912409872: TensorSpec(shape=(), dtype=tf.resource, name=None)\n",
            "  140372912410256: TensorSpec(shape=(), dtype=tf.resource, name=None)\n",
            "  140372912410640: TensorSpec(shape=(), dtype=tf.resource, name=None)\n",
            "  140372912410448: TensorSpec(shape=(), dtype=tf.resource, name=None)\n",
            "  140372912407760: TensorSpec(shape=(), dtype=tf.resource, name=None)\n",
            "  140372912411792: TensorSpec(shape=(), dtype=tf.resource, name=None)\n",
            "  140372912412176: TensorSpec(shape=(), dtype=tf.resource, name=None)\n",
            "  140372912412560: TensorSpec(shape=(), dtype=tf.resource, name=None)\n",
            "  140372912412368: TensorSpec(shape=(), dtype=tf.resource, name=None)\n",
            "  140372912407952: TensorSpec(shape=(), dtype=tf.resource, name=None)\n",
            "  140372912413712: TensorSpec(shape=(), dtype=tf.resource, name=None)\n",
            "  140372912414096: TensorSpec(shape=(), dtype=tf.resource, name=None)\n",
            "  140372912414480: TensorSpec(shape=(), dtype=tf.resource, name=None)\n",
            "  140372912414288: TensorSpec(shape=(), dtype=tf.resource, name=None)\n",
            "  140372912409488: TensorSpec(shape=(), dtype=tf.resource, name=None)\n",
            "  140372912415632: TensorSpec(shape=(), dtype=tf.resource, name=None)\n",
            "  140372912416016: TensorSpec(shape=(), dtype=tf.resource, name=None)\n",
            "  140372912416400: TensorSpec(shape=(), dtype=tf.resource, name=None)\n",
            "  140372912416208: TensorSpec(shape=(), dtype=tf.resource, name=None)\n",
            "  140372912411408: TensorSpec(shape=(), dtype=tf.resource, name=None)\n",
            "  140372912417552: TensorSpec(shape=(), dtype=tf.resource, name=None)\n",
            "  140372912417936: TensorSpec(shape=(), dtype=tf.resource, name=None)\n",
            "  140372912418320: TensorSpec(shape=(), dtype=tf.resource, name=None)\n",
            "  140372912418128: TensorSpec(shape=(), dtype=tf.resource, name=None)\n",
            "  140372912413328: TensorSpec(shape=(), dtype=tf.resource, name=None)\n",
            "  140372912419472: TensorSpec(shape=(), dtype=tf.resource, name=None)\n",
            "  140372912419856: TensorSpec(shape=(), dtype=tf.resource, name=None)\n",
            "  140372912420240: TensorSpec(shape=(), dtype=tf.resource, name=None)\n",
            "  140372912420048: TensorSpec(shape=(), dtype=tf.resource, name=None)\n",
            "  140372912415248: TensorSpec(shape=(), dtype=tf.resource, name=None)\n",
            "  140372912421392: TensorSpec(shape=(), dtype=tf.resource, name=None)\n",
            "  140372912421776: TensorSpec(shape=(), dtype=tf.resource, name=None)\n",
            "  140372912422544: TensorSpec(shape=(), dtype=tf.resource, name=None)\n",
            "  140372912421968: TensorSpec(shape=(), dtype=tf.resource, name=None)\n",
            "  140372912417168: TensorSpec(shape=(), dtype=tf.resource, name=None)\n",
            "  140372912420624: TensorSpec(shape=(), dtype=tf.resource, name=None)\n",
            "  140372910932048: TensorSpec(shape=(), dtype=tf.resource, name=None)\n",
            "  140372910933200: TensorSpec(shape=(), dtype=tf.resource, name=None)\n",
            "  140372912421008: TensorSpec(shape=(), dtype=tf.resource, name=None)\n",
            "  140372910933008: TensorSpec(shape=(), dtype=tf.resource, name=None)\n",
            "  140372910934352: TensorSpec(shape=(), dtype=tf.resource, name=None)\n",
            "  140372910934736: TensorSpec(shape=(), dtype=tf.resource, name=None)\n",
            "  140372910935120: TensorSpec(shape=(), dtype=tf.resource, name=None)\n",
            "  140372910934928: TensorSpec(shape=(), dtype=tf.resource, name=None)\n",
            "  140372910932816: TensorSpec(shape=(), dtype=tf.resource, name=None)\n",
            "  140372910936272: TensorSpec(shape=(), dtype=tf.resource, name=None)\n",
            "  140372910936656: TensorSpec(shape=(), dtype=tf.resource, name=None)\n",
            "  140372910937040: TensorSpec(shape=(), dtype=tf.resource, name=None)\n",
            "  140372910936848: TensorSpec(shape=(), dtype=tf.resource, name=None)\n",
            "  140372910932240: TensorSpec(shape=(), dtype=tf.resource, name=None)\n",
            "  140372910938192: TensorSpec(shape=(), dtype=tf.resource, name=None)\n",
            "  140372910938576: TensorSpec(shape=(), dtype=tf.resource, name=None)\n",
            "  140372910938960: TensorSpec(shape=(), dtype=tf.resource, name=None)\n",
            "  140372910938768: TensorSpec(shape=(), dtype=tf.resource, name=None)\n",
            "  140372910933968: TensorSpec(shape=(), dtype=tf.resource, name=None)\n",
            "  140372910940112: TensorSpec(shape=(), dtype=tf.resource, name=None)\n",
            "  140372910940496: TensorSpec(shape=(), dtype=tf.resource, name=None)\n",
            "  140372910940880: TensorSpec(shape=(), dtype=tf.resource, name=None)\n",
            "  140372910940688: TensorSpec(shape=(), dtype=tf.resource, name=None)\n",
            "  140372910935888: TensorSpec(shape=(), dtype=tf.resource, name=None)\n",
            "  140372910942032: TensorSpec(shape=(), dtype=tf.resource, name=None)\n",
            "  140372910942416: TensorSpec(shape=(), dtype=tf.resource, name=None)\n",
            "  140372910942800: TensorSpec(shape=(), dtype=tf.resource, name=None)\n",
            "  140372910942608: TensorSpec(shape=(), dtype=tf.resource, name=None)\n",
            "  140372910937808: TensorSpec(shape=(), dtype=tf.resource, name=None)\n",
            "  140372910943952: TensorSpec(shape=(), dtype=tf.resource, name=None)\n",
            "  140372910944336: TensorSpec(shape=(), dtype=tf.resource, name=None)\n",
            "  140372910944720: TensorSpec(shape=(), dtype=tf.resource, name=None)\n",
            "  140372910944528: TensorSpec(shape=(), dtype=tf.resource, name=None)\n",
            "  140372910939728: TensorSpec(shape=(), dtype=tf.resource, name=None)\n",
            "  140372910945872: TensorSpec(shape=(), dtype=tf.resource, name=None)\n",
            "  140372910946256: TensorSpec(shape=(), dtype=tf.resource, name=None)\n",
            "  140372910946640: TensorSpec(shape=(), dtype=tf.resource, name=None)\n",
            "  140372910946448: TensorSpec(shape=(), dtype=tf.resource, name=None)\n",
            "  140372910941648: TensorSpec(shape=(), dtype=tf.resource, name=None)\n",
            "  140372910947792: TensorSpec(shape=(), dtype=tf.resource, name=None)\n",
            "  140372910932432: TensorSpec(shape=(), dtype=tf.resource, name=None)\n",
            "  140372910948176: TensorSpec(shape=(), dtype=tf.resource, name=None)\n",
            "  140372910947984: TensorSpec(shape=(), dtype=tf.resource, name=None)\n",
            "  140372910945488: TensorSpec(shape=(), dtype=tf.resource, name=None)\n",
            "  140372911260112: TensorSpec(shape=(), dtype=tf.resource, name=None)\n",
            "  140372911261456: TensorSpec(shape=(), dtype=tf.resource, name=None)\n",
            "  140372911261840: TensorSpec(shape=(), dtype=tf.resource, name=None)\n",
            "  140372911261648: TensorSpec(shape=(), dtype=tf.resource, name=None)\n",
            "  140372911260304: TensorSpec(shape=(), dtype=tf.resource, name=None)\n",
            "  140372911262992: TensorSpec(shape=(), dtype=tf.resource, name=None)\n",
            "  140372911263376: TensorSpec(shape=(), dtype=tf.resource, name=None)\n",
            "  140372911263760: TensorSpec(shape=(), dtype=tf.resource, name=None)\n",
            "  140372911263568: TensorSpec(shape=(), dtype=tf.resource, name=None)\n",
            "  140372911260880: TensorSpec(shape=(), dtype=tf.resource, name=None)\n",
            "  140372911264912: TensorSpec(shape=(), dtype=tf.resource, name=None)\n",
            "  140372911265296: TensorSpec(shape=(), dtype=tf.resource, name=None)\n",
            "  140372911265680: TensorSpec(shape=(), dtype=tf.resource, name=None)\n",
            "  140372911265488: TensorSpec(shape=(), dtype=tf.resource, name=None)\n",
            "  140372911261072: TensorSpec(shape=(), dtype=tf.resource, name=None)\n",
            "  140372911266832: TensorSpec(shape=(), dtype=tf.resource, name=None)\n",
            "  140372911267216: TensorSpec(shape=(), dtype=tf.resource, name=None)\n",
            "  140372911267600: TensorSpec(shape=(), dtype=tf.resource, name=None)\n",
            "  140372911267408: TensorSpec(shape=(), dtype=tf.resource, name=None)\n",
            "  140372911262608: TensorSpec(shape=(), dtype=tf.resource, name=None)\n",
            "  140372911268752: TensorSpec(shape=(), dtype=tf.resource, name=None)\n",
            "  140372911269136: TensorSpec(shape=(), dtype=tf.resource, name=None)\n",
            "  140372911269520: TensorSpec(shape=(), dtype=tf.resource, name=None)\n",
            "  140372911269328: TensorSpec(shape=(), dtype=tf.resource, name=None)\n",
            "  140372911264528: TensorSpec(shape=(), dtype=tf.resource, name=None)\n",
            "  140372911270672: TensorSpec(shape=(), dtype=tf.resource, name=None)\n",
            "  140372911271056: TensorSpec(shape=(), dtype=tf.resource, name=None)\n",
            "  140372911271440: TensorSpec(shape=(), dtype=tf.resource, name=None)\n",
            "  140372911271248: TensorSpec(shape=(), dtype=tf.resource, name=None)\n",
            "  140372911266448: TensorSpec(shape=(), dtype=tf.resource, name=None)\n",
            "  140372911272592: TensorSpec(shape=(), dtype=tf.resource, name=None)\n",
            "  140372911272976: TensorSpec(shape=(), dtype=tf.resource, name=None)\n",
            "  140372911273360: TensorSpec(shape=(), dtype=tf.resource, name=None)\n",
            "  140372911273168: TensorSpec(shape=(), dtype=tf.resource, name=None)\n",
            "  140372911268368: TensorSpec(shape=(), dtype=tf.resource, name=None)\n",
            "  140372911274512: TensorSpec(shape=(), dtype=tf.resource, name=None)\n",
            "  140372911274896: TensorSpec(shape=(), dtype=tf.resource, name=None)\n",
            "  140372911275664: TensorSpec(shape=(), dtype=tf.resource, name=None)\n",
            "  140372911275088: TensorSpec(shape=(), dtype=tf.resource, name=None)\n",
            "  140372911270288: TensorSpec(shape=(), dtype=tf.resource, name=None)\n",
            "  140372911273744: TensorSpec(shape=(), dtype=tf.resource, name=None)\n",
            "  140372911719440: TensorSpec(shape=(), dtype=tf.resource, name=None)\n",
            "  140372911718480: TensorSpec(shape=(), dtype=tf.resource, name=None)\n",
            "  140372911274128: TensorSpec(shape=(), dtype=tf.resource, name=None)\n",
            "  140372911718672: TensorSpec(shape=(), dtype=tf.resource, name=None)\n",
            "  140372911720784: TensorSpec(shape=(), dtype=tf.resource, name=None)\n",
            "  140372911721168: TensorSpec(shape=(), dtype=tf.resource, name=None)\n",
            "  140372911721552: TensorSpec(shape=(), dtype=tf.resource, name=None)\n",
            "  140372911721360: TensorSpec(shape=(), dtype=tf.resource, name=None)\n",
            "  140372911718864: TensorSpec(shape=(), dtype=tf.resource, name=None)\n",
            "  140372911722704: TensorSpec(shape=(), dtype=tf.resource, name=None)\n",
            "  140372911723088: TensorSpec(shape=(), dtype=tf.resource, name=None)\n",
            "  140372911723472: TensorSpec(shape=(), dtype=tf.resource, name=None)\n",
            "  140372911723280: TensorSpec(shape=(), dtype=tf.resource, name=None)\n",
            "  140372911719248: TensorSpec(shape=(), dtype=tf.resource, name=None)\n",
            "  140372911724624: TensorSpec(shape=(), dtype=tf.resource, name=None)\n",
            "  140372911725008: TensorSpec(shape=(), dtype=tf.resource, name=None)\n",
            "  140372911725392: TensorSpec(shape=(), dtype=tf.resource, name=None)\n",
            "  140372911725200: TensorSpec(shape=(), dtype=tf.resource, name=None)\n",
            "  140372911720400: TensorSpec(shape=(), dtype=tf.resource, name=None)\n",
            "  140372911726544: TensorSpec(shape=(), dtype=tf.resource, name=None)\n",
            "  140372911726928: TensorSpec(shape=(), dtype=tf.resource, name=None)\n",
            "  140372911727312: TensorSpec(shape=(), dtype=tf.resource, name=None)\n",
            "  140372911727120: TensorSpec(shape=(), dtype=tf.resource, name=None)\n",
            "  140372911722320: TensorSpec(shape=(), dtype=tf.resource, name=None)\n",
            "  140372911728464: TensorSpec(shape=(), dtype=tf.resource, name=None)\n",
            "  140372911728848: TensorSpec(shape=(), dtype=tf.resource, name=None)\n",
            "  140372911729232: TensorSpec(shape=(), dtype=tf.resource, name=None)\n",
            "  140372911729040: TensorSpec(shape=(), dtype=tf.resource, name=None)\n",
            "  140372911724240: TensorSpec(shape=(), dtype=tf.resource, name=None)\n",
            "  140372911730384: TensorSpec(shape=(), dtype=tf.resource, name=None)\n",
            "  140372911730768: TensorSpec(shape=(), dtype=tf.resource, name=None)\n",
            "  140372911731152: TensorSpec(shape=(), dtype=tf.resource, name=None)\n",
            "  140372911730960: TensorSpec(shape=(), dtype=tf.resource, name=None)\n",
            "  140372911726160: TensorSpec(shape=(), dtype=tf.resource, name=None)\n",
            "  140372911732304: TensorSpec(shape=(), dtype=tf.resource, name=None)\n",
            "  140372911732880: TensorSpec(shape=(), dtype=tf.resource, name=None)\n",
            "  140372911733072: TensorSpec(shape=(), dtype=tf.resource, name=None)\n",
            "  140372911731920: TensorSpec(shape=(), dtype=tf.resource, name=None)\n",
            "  140372911728080: TensorSpec(shape=(), dtype=tf.resource, name=None)\n",
            "  140372911732688: TensorSpec(shape=(), dtype=tf.resource, name=None)\n",
            "  140372911730000: TensorSpec(shape=(), dtype=tf.resource, name=None)\n",
            "  140372911734224: TensorSpec(shape=(), dtype=tf.resource, name=None)\n",
            "  140372910326416: TensorSpec(shape=(), dtype=tf.resource, name=None)\n",
            "  140372910327952: TensorSpec(shape=(), dtype=tf.resource, name=None)\n",
            "  140372910327184: TensorSpec(shape=(), dtype=tf.resource, name=None)\n",
            "  140372910329104: TensorSpec(shape=(), dtype=tf.resource, name=None)\n"
          ]
        }
      ],
      "source": [
        "converter = tf.lite.TFLiteConverter.from_keras_model(model)\n",
        "tflite_model = converter.convert()\n",
        "with open('garbage_odel.tflite', 'wb') as f:\n",
        "    f.write(tflite_model)"
      ]
    },
    {
      "cell_type": "code",
      "source": [
        "# Create the labels file\n",
        "labels = train_generator.class_indices\n",
        "sorted_labels = sorted(labels.items(), key=lambda item: item[1])\n",
        "class_names = [name for name, index in sorted_labels]\n",
        "\n",
        "with open('labels.txt', 'w') as f:\n",
        "    for class_name in class_names:\n",
        "        f.write(f\"{class_name}\\n\")"
      ],
      "metadata": {
        "id": "TL-mfJdBeuyB"
      },
      "execution_count": 26,
      "outputs": []
    },
    {
      "cell_type": "markdown",
      "source": [
        "**TFJS**"
      ],
      "metadata": {
        "id": "UWPTyy5je6HY"
      }
    },
    {
      "cell_type": "code",
      "source": [
        "!tensorflowjs_converter --input_format=tf_saved_model saved_model_garbage tfjs_model_garbage/"
      ],
      "metadata": {
        "colab": {
          "base_uri": "https://localhost:8080/"
        },
        "id": "GlbisMwDe66u",
        "outputId": "419020f7-c230-43e7-a13e-52109ce03819"
      },
      "execution_count": 29,
      "outputs": [
        {
          "output_type": "stream",
          "name": "stdout",
          "text": [
            "2025-06-16 06:46:34.203497: E external/local_xla/xla/stream_executor/cuda/cuda_fft.cc:477] Unable to register cuFFT factory: Attempting to register factory for plugin cuFFT when one has already been registered\n",
            "WARNING: All log messages before absl::InitializeLog() is called are written to STDERR\n",
            "E0000 00:00:1750056394.276176   85861 cuda_dnn.cc:8310] Unable to register cuDNN factory: Attempting to register factory for plugin cuDNN when one has already been registered\n",
            "E0000 00:00:1750056394.315457   85861 cuda_blas.cc:1418] Unable to register cuBLAS factory: Attempting to register factory for plugin cuBLAS when one has already been registered\n",
            "\u001b[32m🌲 Try \u001b[0m\u001b[34mhttps://ydf.readthedocs.io\u001b[0m\u001b[32m, the successor of TensorFlow Decision Forests with more features and faster training!\u001b[0m\n",
            "2025-06-16 06:46:46.330216: E external/local_xla/xla/stream_executor/cuda/cuda_driver.cc:152] failed call to cuInit: INTERNAL: CUDA error: Failed call to cuInit: UNKNOWN ERROR (303)\n",
            "I0000 00:00:1750056408.264893   85861 devices.cc:67] Number of eligible GPUs (core count >= 8, compute capability >= 0.0): 0\n",
            "WARNING: All log messages before absl::InitializeLog() is called are written to STDERR\n",
            "I0000 00:00:1750056408.265186   85861 single_machine.cc:361] Starting new session\n"
          ]
        }
      ]
    },
    {
      "cell_type": "markdown",
      "source": [
        "**Save model**"
      ],
      "metadata": {
        "id": "HmMFjsRaffHe"
      }
    },
    {
      "cell_type": "code",
      "source": [
        "!zip -r saved_model_garbage.zip saved_model_garbage/"
      ],
      "metadata": {
        "colab": {
          "base_uri": "https://localhost:8080/"
        },
        "id": "9rWOJdfafgfD",
        "outputId": "63ddc257-e0bb-40a3-911c-6dd66e63c53a"
      },
      "execution_count": 30,
      "outputs": [
        {
          "output_type": "stream",
          "name": "stdout",
          "text": [
            "  adding: saved_model_garbage/ (stored 0%)\n",
            "  adding: saved_model_garbage/assets/ (stored 0%)\n",
            "  adding: saved_model_garbage/fingerprint.pb (stored 0%)\n",
            "  adding: saved_model_garbage/variables/ (stored 0%)\n",
            "  adding: saved_model_garbage/variables/variables.index (deflated 78%)\n",
            "  adding: saved_model_garbage/variables/variables.data-00000-of-00001 (deflated 7%)\n",
            "  adding: saved_model_garbage/saved_model.pb (deflated 90%)\n"
          ]
        }
      ]
    },
    {
      "cell_type": "code",
      "source": [
        "!zip -r tfjs_model_garbage.zip tfjs_model_garbage/"
      ],
      "metadata": {
        "colab": {
          "base_uri": "https://localhost:8080/"
        },
        "id": "sfWAkcNCfogl",
        "outputId": "36820e1c-2e77-4187-be6d-3182932ebc0f"
      },
      "execution_count": 31,
      "outputs": [
        {
          "output_type": "stream",
          "name": "stdout",
          "text": [
            "  adding: tfjs_model_garbage/ (stored 0%)\n",
            "  adding: tfjs_model_garbage/group1-shard3of4.bin (deflated 7%)\n",
            "  adding: tfjs_model_garbage/group1-shard4of4.bin (deflated 7%)\n",
            "  adding: tfjs_model_garbage/group1-shard1of4.bin (deflated 7%)\n",
            "  adding: tfjs_model_garbage/model.json (deflated 96%)\n",
            "  adding: tfjs_model_garbage/group1-shard2of4.bin (deflated 7%)\n"
          ]
        }
      ]
    },
    {
      "cell_type": "markdown",
      "source": [
        "## Inference (Optional)"
      ],
      "metadata": {
        "id": "8DbfEwvvm5U4"
      }
    },
    {
      "cell_type": "markdown",
      "source": [
        "**Keras Model**"
      ],
      "metadata": {
        "id": "qsZnu8ghnBXY"
      }
    },
    {
      "cell_type": "code",
      "source": [
        "try:\n",
        "    keras_model = load_model('/content/saved_model_garbage.keras')\n",
        "    print(\"Keras model loaded successfully.\")\n",
        "except Exception as e:\n",
        "    print(f\"Error loading Keras model: {e}\")\n",
        "    keras_model = None"
      ],
      "metadata": {
        "colab": {
          "base_uri": "https://localhost:8080/"
        },
        "id": "2p0ZlBm6mLZi",
        "outputId": "77415440-4465-46a8-ca12-5c2cd983cb59"
      },
      "execution_count": 38,
      "outputs": [
        {
          "output_type": "stream",
          "name": "stdout",
          "text": [
            "Keras model loaded successfully.\n"
          ]
        },
        {
          "output_type": "stream",
          "name": "stderr",
          "text": [
            "/usr/local/lib/python3.11/dist-packages/keras/src/saving/saving_lib.py:757: UserWarning: Skipping variable loading for optimizer 'rmsprop', because it has 12 variables whereas the saved optimizer has 22 variables. \n",
            "  saveable.load_own_variables(weights_store.get(inner_path))\n"
          ]
        }
      ]
    },
    {
      "cell_type": "code",
      "source": [
        "if keras_model:\n",
        "    inference_class_names_keras = sorted(os.listdir(test_dir))\n",
        "    if not inference_class_names_keras:\n",
        "         if train_generator and hasattr(train_generator, 'class_indices'):\n",
        "              sorted_labels = sorted(train_generator.class_indices.items(), key=lambda item: item[1])\n",
        "              inference_class_names_keras = [name for name, index in sorted_labels]\n",
        "         else:\n",
        "              print(\"Warning: Could not determine class names for Keras inference.\")\n",
        "              inference_class_names_keras = None # Cannot proceed without class names\n",
        "\n",
        "    if inference_class_names_keras:\n",
        "        def predict_image_keras(image_path, model, class_names):\n",
        "            try:\n",
        "                img = image.load_img(image_path, target_size=(224, 224))\n",
        "                img_array = image.img_to_array(img)\n",
        "                img_array = np.expand_dims(img_array, axis=0)\n",
        "                img_array = preprocess_input(img_array)\n",
        "\n",
        "                # Make prediction\n",
        "                predictions = model.predict(img_array)\n",
        "\n",
        "                # Get the predicted class index\n",
        "                predicted_class_index = np.argmax(predictions, axis=1)[0]\n",
        "                predicted_class_name = class_names[predicted_class_index]\n",
        "                confidence = np.max(predictions, axis=1)[0]\n",
        "\n",
        "                print(f\"Image: {os.path.basename(image_path)}\")\n",
        "                print(f\"Predicted class (Keras): {predicted_class_name} (Confidence: {confidence:.4f})\")\n",
        "                try:\n",
        "                    display(Image(filename=image_path))\n",
        "                except NameError:\n",
        "                    print(\"Could not display image. Make sure 'from IPython.display import Image, display' is imported.\")\n",
        "                print(\"-\" * 30)\n",
        "\n",
        "            except FileNotFoundError:\n",
        "                print(f\"Error: Image not found at {image_path}\")\n",
        "            except Exception as e:\n",
        "                print(f\"Error processing image {image_path}: {e}\")\n",
        "\n",
        "\n",
        "        # --- Example Usage for Keras Model ---\n",
        "        print(\"\\n--- Performing Keras Model Inference on Example Images ---\")\n",
        "\n",
        "        example_image_paths_keras = [\n",
        "            '/content/Data_split_garbage_2/test/battery/battery_battery419.jpg',\n",
        "            '/content/Data_split_garbage_2/test/metal/metal_metal152.jpg',\n",
        "        ]\n",
        "\n",
        "        # Check if example images exist before trying to predict\n",
        "        valid_example_images_keras = [img_path for img_path in example_image_paths_keras if os.path.exists(img_path)]\n",
        "\n",
        "        if valid_example_images_keras:\n",
        "            for img_path in valid_example_images_keras:\n",
        "                predict_image_keras(img_path, keras_model, inference_class_names_keras)\n",
        "        else:\n",
        "            print(\"No valid example image paths found for Keras inference. Please update 'example_image_paths_keras'.\")\n",
        "\n",
        "else:\n",
        "    print(\"Keras model was not loaded, skipping Keras inference.\")"
      ],
      "metadata": {
        "colab": {
          "base_uri": "https://localhost:8080/",
          "height": 639
        },
        "id": "Ldl51aiCmNGA",
        "outputId": "c5b6c579-dfe3-48ea-edd2-9f6041f90080"
      },
      "execution_count": 42,
      "outputs": [
        {
          "output_type": "stream",
          "name": "stdout",
          "text": [
            "\n",
            "--- Performing Keras Model Inference on Example Images ---\n",
            "\u001b[1m1/1\u001b[0m \u001b[32m━━━━━━━━━━━━━━━━━━━━\u001b[0m\u001b[37m\u001b[0m \u001b[1m0s\u001b[0m 78ms/step\n",
            "Image: battery_battery419.jpg\n",
            "Predicted class (Keras): battery (Confidence: 0.9997)\n"
          ]
        },
        {
          "output_type": "display_data",
          "data": {
            "image/jpeg": "[encoded data removed]",
            "text/plain": [
              "<IPython.core.display.Image object>"
            ]
          },
          "metadata": {}
        },
        {
          "output_type": "stream",
          "name": "stdout",
          "text": [
            "------------------------------\n",
            "\u001b[1m1/1\u001b[0m \u001b[32m━━━━━━━━━━━━━━━━━━━━\u001b[0m\u001b[37m\u001b[0m \u001b[1m0s\u001b[0m 94ms/step\n",
            "Image: metal_metal152.jpg\n",
            "Predicted class (Keras): metal (Confidence: 0.9998)\n"
          ]
        },
        {
          "output_type": "display_data",
          "data": {
            "image/jpeg": "[encoded data removed]",
            "text/plain": [
              "<IPython.core.display.Image object>"
            ]
          },
          "metadata": {}
        },
        {
          "output_type": "stream",
          "name": "stdout",
          "text": [
            "------------------------------\n"
          ]
        }
      ]
    },
    {
      "cell_type": "markdown",
      "source": [
        "**TF Lite**"
      ],
      "metadata": {
        "id": "sR-0gI1FnD2X"
      }
    },
    {
      "cell_type": "code",
      "source": [
        "# Load the TFLite model and allocate tensors\n",
        "try:\n",
        "    interpreter = tf.lite.Interpreter(model_path=\"garbage_odel.tflite\")\n",
        "    interpreter.allocate_tensors()\n",
        "    print(\"TFLite interpreter loaded successfully.\")\n",
        "except Exception as e:\n",
        "    print(f\"Error loading TFLite model: {e}\")\n",
        "    interpreter = None"
      ],
      "metadata": {
        "colab": {
          "base_uri": "https://localhost:8080/"
        },
        "id": "V7ZpTlXknJB2",
        "outputId": "b74e1273-dec9-4f13-a90a-61e197d99322"
      },
      "execution_count": 43,
      "outputs": [
        {
          "output_type": "stream",
          "name": "stdout",
          "text": [
            "TFLite interpreter loaded successfully.\n"
          ]
        }
      ]
    },
    {
      "cell_type": "code",
      "source": [
        "if interpreter:\n",
        "    # Get input and output tensors\n",
        "    input_details = interpreter.get_input_details()\n",
        "    output_details = interpreter.get_output_details()\n",
        "\n",
        "    # Get the expected input shape\n",
        "    input_shape = input_details[0]['shape']\n",
        "    try:\n",
        "        with open('labels.txt', 'r') as f:\n",
        "            inference_class_names_tflite = [line.strip() for line in f]\n",
        "        print(f\"Loaded {len(inference_class_names_tflite)} class names from labels.txt\")\n",
        "    except FileNotFoundError:\n",
        "        print(\"Error: labels.txt not found. Cannot perform TFLite inference.\")\n",
        "        inference_class_names_tflite = None # Cannot proceed\n",
        "\n",
        "    if inference_class_names_tflite:\n",
        "        def predict_image_tflite(image_path, interpreter, input_details, output_details, class_names):\n",
        "            try:\n",
        "                img = image.load_img(image_path, target_size=(input_shape[1], input_shape[2])) # Use input_shape for target_size\n",
        "                img_array = image.img_to_array(img)\n",
        "                img_array = np.expand_dims(img_array, axis=0)\n",
        "                img_array = preprocess_input(img_array) # Apply the same preprocessing as training\n",
        "\n",
        "                input_data = img_array.astype('float32')\n",
        "                interpreter.set_tensor(input_details[0]['index'], input_data)\n",
        "\n",
        "                # Run the inference\n",
        "                interpreter.invoke()\n",
        "\n",
        "                # Get the output tensor\n",
        "                output_data = interpreter.get_tensor(output_details[0]['index'])\n",
        "                predictions = output_data[0]\n",
        "                predicted_class_index = np.argmax(predictions)\n",
        "                predicted_class_name = class_names[predicted_class_index]\n",
        "                confidence = np.max(predictions)\n",
        "\n",
        "                print(f\"Image: {os.path.basename(image_path)}\")\n",
        "                print(f\"Predicted class (TFLite): {predicted_class_name} (Confidence: {confidence:.4f})\")\n",
        "                try:\n",
        "                    display(Image(filename=image_path))\n",
        "                except NameError:\n",
        "                    print(\"Could not display image. Make sure 'from IPython.display import Image, display' is imported.\")\n",
        "                print(\"-\" * 30)\n",
        "\n",
        "\n",
        "            except FileNotFoundError:\n",
        "                print(f\"Error: Image not found at {image_path}\")\n",
        "            except Exception as e:\n",
        "                print(f\"Error processing image {image_path}: {e}\")\n",
        "\n",
        "        print(\"\\n--- Performing TFLite Model Inference on Example Images ---\")\n",
        "\n",
        "        example_image_paths_tflite = [\n",
        "            '/content/Data_split_garbage_2/test/white-glass/white-glass_white-glass151.jpg', # Example path from your test set\n",
        "            '/content/Data_split_garbage_2/test/cardboard/cardboard_cardboard123.jpg',\n",
        "            '/content/Data_split_garbage_2/test/clothes/clothes_clothes1690.jpg',\n",
        "            '/content/Data_split_garbage_2/test/biological/biological_biological180.jpg',\n",
        "            '/content/Data_split_garbage_2/test/plastic/plastic_plastic61.jpg'\n",
        "\n",
        "        ]\n",
        "\n",
        "        # Check if example images exist before trying to predict\n",
        "        valid_example_images_tflite = [img_path for img_path in example_image_paths_tflite if os.path.exists(img_path)]\n",
        "\n",
        "        if valid_example_images_tflite:\n",
        "            for img_path in valid_example_images_tflite:\n",
        "                predict_image_tflite(img_path, interpreter, input_details, output_details, inference_class_names_tflite)\n",
        "        else:\n",
        "             print(\"No valid example image paths found for TFLite inference. Please update 'example_image_paths_tflite'.\")\n",
        "\n",
        "else:\n",
        "    print(\"TFLite interpreter was not loaded, skipping TFLite inference.\")"
      ],
      "metadata": {
        "colab": {
          "base_uri": "https://localhost:8080/",
          "height": 1000
        },
        "id": "ElMOkZxFnJ78",
        "outputId": "63e9f10f-cf2d-4a1f-edf7-4d9be5a0375c"
      },
      "execution_count": 45,
      "outputs": [
        {
          "output_type": "stream",
          "name": "stdout",
          "text": [
            "Loaded 12 class names from labels.txt\n",
            "\n",
            "--- Performing TFLite Model Inference on Example Images ---\n",
            "Image: white-glass_white-glass151.jpg\n",
            "Predicted class (TFLite): white-glass (Confidence: 0.9999)\n"
          ]
        },
        {
          "output_type": "display_data",
          "data": {
            "image/jpeg": "[encoded data removed]",
            "text/plain": [
              "<IPython.core.display.Image object>"
            ]
          },
          "metadata": {}
        },
        {
          "output_type": "stream",
          "name": "stdout",
          "text": [
            "------------------------------\n",
            "Image: cardboard_cardboard123.jpg\n",
            "Predicted class (TFLite): cardboard (Confidence: 0.9957)\n"
          ]
        },
        {
          "output_type": "display_data",
          "data": {
            "image/jpeg": "[encoded data removed]",
            "text/plain": [
              "<IPython.core.display.Image object>"
            ]
          },
          "metadata": {}
        },
        {
          "output_type": "stream",
          "name": "stdout",
          "text": [
            "------------------------------\n",
            "Image: clothes_clothes1690.jpg\n",
            "Predicted class (TFLite): clothes (Confidence: 1.0000)\n"
          ]
        },
        {
          "output_type": "display_data",
          "data": {
            "image/jpeg": "[encoded data removed]",
            "text/plain": [
              "<IPython.core.display.Image object>"
            ]
          },
          "metadata": {}
        },
        {
          "output_type": "stream",
          "name": "stdout",
          "text": [
            "------------------------------\n",
            "Image: biological_biological180.jpg\n",
            "Predicted class (TFLite): biological (Confidence: 0.9988)\n"
          ]
        },
        {
          "output_type": "display_data",
          "data": {
            "image/jpeg": "[encoded data removed]",
            "text/plain": [
              "<IPython.core.display.Image object>"
            ]
          },
          "metadata": {}
        },
        {
          "output_type": "stream",
          "name": "stdout",
          "text": [
            "------------------------------\n",
            "Image: plastic_plastic61.jpg\n",
            "Predicted class (TFLite): plastic (Confidence: 0.9998)\n"
          ]
        },
        {
          "output_type": "display_data",
          "data": {
            "image/jpeg": "[encoded data removed]",
            "text/plain": [
              "<IPython.core.display.Image object>"
            ]
          },
          "metadata": {}
        },
        {
          "output_type": "stream",
          "name": "stdout",
          "text": [
            "------------------------------\n"
          ]
        }
      ]
    }
  ]
}